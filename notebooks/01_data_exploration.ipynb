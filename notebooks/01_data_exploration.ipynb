{
 "cells": [
  {
   "cell_type": "markdown",
   "id": "dfb0b587",
   "metadata": {},
   "source": [
    "# Exploratory Data Analysis"
   ]
  },
  {
   "cell_type": "code",
   "execution_count": 56,
   "id": "ad3a8bff",
   "metadata": {},
   "outputs": [],
   "source": [
    "#importing the necessary libraries\n",
    "\n",
    "import numpy as np\n",
    "import pandas as pd\n",
    "import matplotlib as mpl\n",
    "%matplotlib inline\n",
    "import matplotlib.pyplot as plt\n",
    "import seaborn as sns\n",
    "\n",
    "import warnings\n",
    "warnings.filterwarnings(\"ignore\")"
   ]
  },
  {
   "cell_type": "markdown",
   "id": "9e39ebbd",
   "metadata": {},
   "source": [
    "## Import the dataset"
   ]
  },
  {
   "cell_type": "code",
   "execution_count": 37,
   "id": "825d3cc1",
   "metadata": {},
   "outputs": [],
   "source": [
    "#Load the dataset\n",
    "df = pd.read_csv('D:\\Team Project\\data\\credit_risk_dataset.csv')"
   ]
  },
  {
   "cell_type": "code",
   "execution_count": 38,
   "id": "38c94e57",
   "metadata": {},
   "outputs": [
    {
     "data": {
      "text/html": [
       "<div>\n",
       "<style scoped>\n",
       "    .dataframe tbody tr th:only-of-type {\n",
       "        vertical-align: middle;\n",
       "    }\n",
       "\n",
       "    .dataframe tbody tr th {\n",
       "        vertical-align: top;\n",
       "    }\n",
       "\n",
       "    .dataframe thead th {\n",
       "        text-align: right;\n",
       "    }\n",
       "</style>\n",
       "<table border=\"1\" class=\"dataframe\">\n",
       "  <thead>\n",
       "    <tr style=\"text-align: right;\">\n",
       "      <th></th>\n",
       "      <th>person_age</th>\n",
       "      <th>person_income</th>\n",
       "      <th>person_home_ownership</th>\n",
       "      <th>person_emp_length</th>\n",
       "      <th>loan_intent</th>\n",
       "      <th>loan_grade</th>\n",
       "      <th>loan_amnt</th>\n",
       "      <th>loan_int_rate</th>\n",
       "      <th>loan_status</th>\n",
       "      <th>loan_percent_income</th>\n",
       "      <th>cb_person_default_on_file</th>\n",
       "      <th>cb_person_cred_hist_length</th>\n",
       "    </tr>\n",
       "  </thead>\n",
       "  <tbody>\n",
       "    <tr>\n",
       "      <th>0</th>\n",
       "      <td>22</td>\n",
       "      <td>59000</td>\n",
       "      <td>RENT</td>\n",
       "      <td>123.0</td>\n",
       "      <td>PERSONAL</td>\n",
       "      <td>D</td>\n",
       "      <td>35000</td>\n",
       "      <td>16.02</td>\n",
       "      <td>1</td>\n",
       "      <td>0.59</td>\n",
       "      <td>Y</td>\n",
       "      <td>3</td>\n",
       "    </tr>\n",
       "    <tr>\n",
       "      <th>1</th>\n",
       "      <td>21</td>\n",
       "      <td>9600</td>\n",
       "      <td>OWN</td>\n",
       "      <td>5.0</td>\n",
       "      <td>EDUCATION</td>\n",
       "      <td>B</td>\n",
       "      <td>1000</td>\n",
       "      <td>11.14</td>\n",
       "      <td>0</td>\n",
       "      <td>0.10</td>\n",
       "      <td>N</td>\n",
       "      <td>2</td>\n",
       "    </tr>\n",
       "    <tr>\n",
       "      <th>2</th>\n",
       "      <td>25</td>\n",
       "      <td>9600</td>\n",
       "      <td>MORTGAGE</td>\n",
       "      <td>1.0</td>\n",
       "      <td>MEDICAL</td>\n",
       "      <td>C</td>\n",
       "      <td>5500</td>\n",
       "      <td>12.87</td>\n",
       "      <td>1</td>\n",
       "      <td>0.57</td>\n",
       "      <td>N</td>\n",
       "      <td>3</td>\n",
       "    </tr>\n",
       "    <tr>\n",
       "      <th>3</th>\n",
       "      <td>23</td>\n",
       "      <td>65500</td>\n",
       "      <td>RENT</td>\n",
       "      <td>4.0</td>\n",
       "      <td>MEDICAL</td>\n",
       "      <td>C</td>\n",
       "      <td>35000</td>\n",
       "      <td>15.23</td>\n",
       "      <td>1</td>\n",
       "      <td>0.53</td>\n",
       "      <td>N</td>\n",
       "      <td>2</td>\n",
       "    </tr>\n",
       "    <tr>\n",
       "      <th>4</th>\n",
       "      <td>24</td>\n",
       "      <td>54400</td>\n",
       "      <td>RENT</td>\n",
       "      <td>8.0</td>\n",
       "      <td>MEDICAL</td>\n",
       "      <td>C</td>\n",
       "      <td>35000</td>\n",
       "      <td>14.27</td>\n",
       "      <td>1</td>\n",
       "      <td>0.55</td>\n",
       "      <td>Y</td>\n",
       "      <td>4</td>\n",
       "    </tr>\n",
       "  </tbody>\n",
       "</table>\n",
       "</div>"
      ],
      "text/plain": [
       "   person_age  person_income person_home_ownership  person_emp_length  \\\n",
       "0          22          59000                  RENT              123.0   \n",
       "1          21           9600                   OWN                5.0   \n",
       "2          25           9600              MORTGAGE                1.0   \n",
       "3          23          65500                  RENT                4.0   \n",
       "4          24          54400                  RENT                8.0   \n",
       "\n",
       "  loan_intent loan_grade  loan_amnt  loan_int_rate  loan_status  \\\n",
       "0    PERSONAL          D      35000          16.02            1   \n",
       "1   EDUCATION          B       1000          11.14            0   \n",
       "2     MEDICAL          C       5500          12.87            1   \n",
       "3     MEDICAL          C      35000          15.23            1   \n",
       "4     MEDICAL          C      35000          14.27            1   \n",
       "\n",
       "   loan_percent_income cb_person_default_on_file  cb_person_cred_hist_length  \n",
       "0                 0.59                         Y                           3  \n",
       "1                 0.10                         N                           2  \n",
       "2                 0.57                         N                           3  \n",
       "3                 0.53                         N                           2  \n",
       "4                 0.55                         Y                           4  "
      ]
     },
     "execution_count": 38,
     "metadata": {},
     "output_type": "execute_result"
    }
   ],
   "source": [
    "df.head()"
   ]
  },
  {
   "cell_type": "markdown",
   "id": "cff02a85",
   "metadata": {},
   "source": [
    "## Shape of the Dataset"
   ]
  },
  {
   "cell_type": "markdown",
   "id": "7c08fa00",
   "metadata": {},
   "source": [
    "The dataset contains records of 32,581 clients on 12 features (variables)"
   ]
  },
  {
   "cell_type": "code",
   "execution_count": 39,
   "id": "8ecdf4ce",
   "metadata": {},
   "outputs": [
    {
     "data": {
      "text/plain": [
       "(32581, 12)"
      ]
     },
     "execution_count": 39,
     "metadata": {},
     "output_type": "execute_result"
    }
   ],
   "source": [
    "df.shape"
   ]
  },
  {
   "cell_type": "markdown",
   "id": "f03b3267",
   "metadata": {},
   "source": [
    "## Brief Description of the dataset\n",
    "\n",
    "This dataset contains various features related to individuals and their loans. The goal is to predict whether a loan will default or not. Below are the features included in the dataset:\n",
    "\n",
    "| Feature Name | Description |\n",
    "| --- | --- |\n",
    "| person_age | Age of the person |\n",
    "| person_income\t| Annual income of the person |\n",
    "| person_home_ownership | Home ownership status (e.g., rent, own, mortgage) |\n",
    "| person_emp_length | Employment length in years |\n",
    "| loan_intent |\tIntent of the loan (e.g., education, personal, medical) |\n",
    "| loan_grade | Grade of the loan |\n",
    "| loan_amnt | Loan amount |\n",
    "| loan_int_rate | Interest rate of the loan |\n",
    "| loan_status | Loan status (0 for non-default, 1 for default) |\n",
    "| loan_percent_income |\tLoan amount as a percentage of income |\n",
    "| cb_person_default_on_file | Whether the individual has a history of defaulting (Y for yes, N for no) |\n",
    "| cb_preson_cred_hist_length | Length of the person's credit history in years |"
   ]
  },
  {
   "cell_type": "code",
   "execution_count": 40,
   "id": "adfb8f9b",
   "metadata": {},
   "outputs": [
    {
     "name": "stdout",
     "output_type": "stream",
     "text": [
      "<class 'pandas.core.frame.DataFrame'>\n",
      "RangeIndex: 32581 entries, 0 to 32580\n",
      "Data columns (total 12 columns):\n",
      " #   Column                      Non-Null Count  Dtype  \n",
      "---  ------                      --------------  -----  \n",
      " 0   person_age                  32581 non-null  int64  \n",
      " 1   person_income               32581 non-null  int64  \n",
      " 2   person_home_ownership       32581 non-null  object \n",
      " 3   person_emp_length           31686 non-null  float64\n",
      " 4   loan_intent                 32581 non-null  object \n",
      " 5   loan_grade                  32581 non-null  object \n",
      " 6   loan_amnt                   32581 non-null  int64  \n",
      " 7   loan_int_rate               29465 non-null  float64\n",
      " 8   loan_status                 32581 non-null  int64  \n",
      " 9   loan_percent_income         32581 non-null  float64\n",
      " 10  cb_person_default_on_file   32581 non-null  object \n",
      " 11  cb_person_cred_hist_length  32581 non-null  int64  \n",
      "dtypes: float64(3), int64(5), object(4)\n",
      "memory usage: 3.0+ MB\n"
     ]
    }
   ],
   "source": [
    "df.info()"
   ]
  },
  {
   "cell_type": "markdown",
   "id": "9534cf51",
   "metadata": {},
   "source": [
    "## Basic Descriptive Summary of Numerical Variables"
   ]
  },
  {
   "cell_type": "code",
   "execution_count": 41,
   "id": "92711510",
   "metadata": {},
   "outputs": [
    {
     "data": {
      "text/html": [
       "<div>\n",
       "<style scoped>\n",
       "    .dataframe tbody tr th:only-of-type {\n",
       "        vertical-align: middle;\n",
       "    }\n",
       "\n",
       "    .dataframe tbody tr th {\n",
       "        vertical-align: top;\n",
       "    }\n",
       "\n",
       "    .dataframe thead th {\n",
       "        text-align: right;\n",
       "    }\n",
       "</style>\n",
       "<table border=\"1\" class=\"dataframe\">\n",
       "  <thead>\n",
       "    <tr style=\"text-align: right;\">\n",
       "      <th></th>\n",
       "      <th>person_age</th>\n",
       "      <th>person_income</th>\n",
       "      <th>person_emp_length</th>\n",
       "      <th>loan_amnt</th>\n",
       "      <th>loan_int_rate</th>\n",
       "      <th>loan_status</th>\n",
       "      <th>loan_percent_income</th>\n",
       "      <th>cb_person_cred_hist_length</th>\n",
       "    </tr>\n",
       "  </thead>\n",
       "  <tbody>\n",
       "    <tr>\n",
       "      <th>count</th>\n",
       "      <td>32581.000000</td>\n",
       "      <td>3.258100e+04</td>\n",
       "      <td>31686.000000</td>\n",
       "      <td>32581.000000</td>\n",
       "      <td>29465.000000</td>\n",
       "      <td>32581.000000</td>\n",
       "      <td>32581.000000</td>\n",
       "      <td>32581.000000</td>\n",
       "    </tr>\n",
       "    <tr>\n",
       "      <th>mean</th>\n",
       "      <td>27.734600</td>\n",
       "      <td>6.607485e+04</td>\n",
       "      <td>4.789686</td>\n",
       "      <td>9589.371106</td>\n",
       "      <td>11.011695</td>\n",
       "      <td>0.218164</td>\n",
       "      <td>0.170203</td>\n",
       "      <td>5.804211</td>\n",
       "    </tr>\n",
       "    <tr>\n",
       "      <th>std</th>\n",
       "      <td>6.348078</td>\n",
       "      <td>6.198312e+04</td>\n",
       "      <td>4.142630</td>\n",
       "      <td>6322.086646</td>\n",
       "      <td>3.240459</td>\n",
       "      <td>0.413006</td>\n",
       "      <td>0.106782</td>\n",
       "      <td>4.055001</td>\n",
       "    </tr>\n",
       "    <tr>\n",
       "      <th>min</th>\n",
       "      <td>20.000000</td>\n",
       "      <td>4.000000e+03</td>\n",
       "      <td>0.000000</td>\n",
       "      <td>500.000000</td>\n",
       "      <td>5.420000</td>\n",
       "      <td>0.000000</td>\n",
       "      <td>0.000000</td>\n",
       "      <td>2.000000</td>\n",
       "    </tr>\n",
       "    <tr>\n",
       "      <th>25%</th>\n",
       "      <td>23.000000</td>\n",
       "      <td>3.850000e+04</td>\n",
       "      <td>2.000000</td>\n",
       "      <td>5000.000000</td>\n",
       "      <td>7.900000</td>\n",
       "      <td>0.000000</td>\n",
       "      <td>0.090000</td>\n",
       "      <td>3.000000</td>\n",
       "    </tr>\n",
       "    <tr>\n",
       "      <th>50%</th>\n",
       "      <td>26.000000</td>\n",
       "      <td>5.500000e+04</td>\n",
       "      <td>4.000000</td>\n",
       "      <td>8000.000000</td>\n",
       "      <td>10.990000</td>\n",
       "      <td>0.000000</td>\n",
       "      <td>0.150000</td>\n",
       "      <td>4.000000</td>\n",
       "    </tr>\n",
       "    <tr>\n",
       "      <th>75%</th>\n",
       "      <td>30.000000</td>\n",
       "      <td>7.920000e+04</td>\n",
       "      <td>7.000000</td>\n",
       "      <td>12200.000000</td>\n",
       "      <td>13.470000</td>\n",
       "      <td>0.000000</td>\n",
       "      <td>0.230000</td>\n",
       "      <td>8.000000</td>\n",
       "    </tr>\n",
       "    <tr>\n",
       "      <th>max</th>\n",
       "      <td>144.000000</td>\n",
       "      <td>6.000000e+06</td>\n",
       "      <td>123.000000</td>\n",
       "      <td>35000.000000</td>\n",
       "      <td>23.220000</td>\n",
       "      <td>1.000000</td>\n",
       "      <td>0.830000</td>\n",
       "      <td>30.000000</td>\n",
       "    </tr>\n",
       "  </tbody>\n",
       "</table>\n",
       "</div>"
      ],
      "text/plain": [
       "         person_age  person_income  person_emp_length     loan_amnt  \\\n",
       "count  32581.000000   3.258100e+04       31686.000000  32581.000000   \n",
       "mean      27.734600   6.607485e+04           4.789686   9589.371106   \n",
       "std        6.348078   6.198312e+04           4.142630   6322.086646   \n",
       "min       20.000000   4.000000e+03           0.000000    500.000000   \n",
       "25%       23.000000   3.850000e+04           2.000000   5000.000000   \n",
       "50%       26.000000   5.500000e+04           4.000000   8000.000000   \n",
       "75%       30.000000   7.920000e+04           7.000000  12200.000000   \n",
       "max      144.000000   6.000000e+06         123.000000  35000.000000   \n",
       "\n",
       "       loan_int_rate   loan_status  loan_percent_income  \\\n",
       "count   29465.000000  32581.000000         32581.000000   \n",
       "mean       11.011695      0.218164             0.170203   \n",
       "std         3.240459      0.413006             0.106782   \n",
       "min         5.420000      0.000000             0.000000   \n",
       "25%         7.900000      0.000000             0.090000   \n",
       "50%        10.990000      0.000000             0.150000   \n",
       "75%        13.470000      0.000000             0.230000   \n",
       "max        23.220000      1.000000             0.830000   \n",
       "\n",
       "       cb_person_cred_hist_length  \n",
       "count                32581.000000  \n",
       "mean                     5.804211  \n",
       "std                      4.055001  \n",
       "min                      2.000000  \n",
       "25%                      3.000000  \n",
       "50%                      4.000000  \n",
       "75%                      8.000000  \n",
       "max                     30.000000  "
      ]
     },
     "execution_count": 41,
     "metadata": {},
     "output_type": "execute_result"
    }
   ],
   "source": [
    "df.describe()"
   ]
  },
  {
   "cell_type": "markdown",
   "id": "a517b797",
   "metadata": {},
   "source": [
    "## Number of Missing Values in Each Column\n",
    "We have several missing values for the variables 'person_emp_length' and 'loan_int_rate'"
   ]
  },
  {
   "cell_type": "code",
   "execution_count": 42,
   "id": "5ba7e790",
   "metadata": {},
   "outputs": [
    {
     "data": {
      "text/plain": [
       "person_age                       0\n",
       "person_income                    0\n",
       "person_home_ownership            0\n",
       "person_emp_length              895\n",
       "loan_intent                      0\n",
       "loan_grade                       0\n",
       "loan_amnt                        0\n",
       "loan_int_rate                 3116\n",
       "loan_status                      0\n",
       "loan_percent_income              0\n",
       "cb_person_default_on_file        0\n",
       "cb_person_cred_hist_length       0\n",
       "dtype: int64"
      ]
     },
     "execution_count": 42,
     "metadata": {},
     "output_type": "execute_result"
    }
   ],
   "source": [
    "df.isnull().sum()"
   ]
  },
  {
   "cell_type": "markdown",
   "id": "ff754c71",
   "metadata": {},
   "source": [
    "## Number of Unique Values for Each Variable"
   ]
  },
  {
   "cell_type": "code",
   "execution_count": 43,
   "id": "6b006b76",
   "metadata": {},
   "outputs": [
    {
     "data": {
      "text/plain": [
       "person_age                      58\n",
       "person_income                 4295\n",
       "person_home_ownership            4\n",
       "person_emp_length               36\n",
       "loan_intent                      6\n",
       "loan_grade                       7\n",
       "loan_amnt                      753\n",
       "loan_int_rate                  348\n",
       "loan_status                      2\n",
       "loan_percent_income             77\n",
       "cb_person_default_on_file        2\n",
       "cb_person_cred_hist_length      29\n",
       "dtype: int64"
      ]
     },
     "execution_count": 43,
     "metadata": {},
     "output_type": "execute_result"
    }
   ],
   "source": [
    "df.nunique()"
   ]
  },
  {
   "cell_type": "markdown",
   "id": "a0dd7cf2",
   "metadata": {},
   "source": [
    "# 1. Univariate Analysis"
   ]
  },
  {
   "cell_type": "markdown",
   "id": "d0fc7858",
   "metadata": {},
   "source": [
    "## 1.1 Age"
   ]
  },
  {
   "cell_type": "code",
   "execution_count": 44,
   "id": "914b7d72",
   "metadata": {},
   "outputs": [
    {
     "data": {
      "text/plain": [
       "count    32581.000000\n",
       "mean        27.734600\n",
       "std          6.348078\n",
       "min         20.000000\n",
       "25%         23.000000\n",
       "50%         26.000000\n",
       "75%         30.000000\n",
       "max        144.000000\n",
       "Name: person_age, dtype: float64"
      ]
     },
     "execution_count": 44,
     "metadata": {},
     "output_type": "execute_result"
    }
   ],
   "source": [
    "df['person_age'].describe()"
   ]
  },
  {
   "cell_type": "markdown",
   "id": "db17da2f",
   "metadata": {},
   "source": [
    "We see that approximately 75% of the clients are below 30 years of age while max value of age is 144. It is clear that these values are anomalies which is most likely the result of erroneous data entry. We consider any value of age above 100 to be an anomaly."
   ]
  },
  {
   "cell_type": "code",
   "execution_count": 51,
   "id": "bdadff30",
   "metadata": {},
   "outputs": [
    {
     "name": "stdout",
     "output_type": "stream",
     "text": [
      "Anomalous Entry  1 :  144\n",
      "Anomalous Entry  2 :  144\n",
      "Anomalous Entry  3 :  123\n",
      "Anomalous Entry  4 :  123\n",
      "Anomalous Entry  5 :  144\n"
     ]
    }
   ],
   "source": [
    "# Checking the number of anamalous entries\n",
    "count = 1\n",
    "for i in range(len(df['person_age'])):\n",
    "    if df['person_age'][i]>100:\n",
    "        print(\"Anomalous Entry \",count,\": \",df['person_age'][i])\n",
    "        count=count+1"
   ]
  },
  {
   "cell_type": "markdown",
   "id": "83ec2c43",
   "metadata": {},
   "source": [
    "Since we have a sufficiently large dataset (32,581 entries) so we can afford to lose these numerous anamolous entries in order to maintain data integrity."
   ]
  },
  {
   "cell_type": "code",
   "execution_count": 52,
   "id": "91c5755f",
   "metadata": {},
   "outputs": [],
   "source": [
    "# Removing the anamalous entries\n",
    "df = df[df['person_age']<100]"
   ]
  },
  {
   "cell_type": "code",
   "execution_count": 53,
   "id": "f0e41ced",
   "metadata": {},
   "outputs": [
    {
     "data": {
      "text/plain": [
       "(32576, 12)"
      ]
     },
     "execution_count": 53,
     "metadata": {},
     "output_type": "execute_result"
    }
   ],
   "source": [
    "#Checking the removal of anaomalies\n",
    "df.shape"
   ]
  },
  {
   "cell_type": "code",
   "execution_count": 54,
   "id": "d8e078b5",
   "metadata": {},
   "outputs": [
    {
     "data": {
      "text/plain": [
       "count    32576.000000\n",
       "mean        27.718044\n",
       "std          6.204990\n",
       "min         20.000000\n",
       "25%         23.000000\n",
       "50%         26.000000\n",
       "75%         30.000000\n",
       "max         94.000000\n",
       "Name: person_age, dtype: float64"
      ]
     },
     "execution_count": 54,
     "metadata": {},
     "output_type": "execute_result"
    }
   ],
   "source": [
    "# Distribution of age after removing anomalies\n",
    "df['person_age'].describe()"
   ]
  },
  {
   "cell_type": "code",
   "execution_count": 63,
   "id": "62239cd3",
   "metadata": {},
   "outputs": [
    {
     "data": {
      "image/png": "[encoded data removed]",
      "text/plain": [
       "<Figure size 432x288 with 2 Axes>"
      ]
     },
     "metadata": {},
     "output_type": "display_data"
    }
   ],
   "source": [
    "sns.set(style=\"ticks\")\n",
    "\n",
    "\n",
    "f, (ax_box, ax_hist) = plt.subplots(2, sharex=True, \n",
    "                                    gridspec_kw={\"height_ratios\": (.15, .85)})\n",
    "\n",
    "sns.boxplot(df['person_age'], ax=ax_box)\n",
    "sns.distplot(df['person_age'], ax=ax_hist)\n",
    "\n",
    "ax_box.set(yticks=[])\n",
    "sns.despine(ax=ax_hist)\n",
    "sns.despine(ax=ax_box, left=True)"
   ]
  },
  {
   "cell_type": "markdown",
   "id": "81b8ba78",
   "metadata": {},
   "source": [
    "The distribution of age is positively skewed and there is significant presence of outliers."
   ]
  },
  {
   "cell_type": "markdown",
   "id": "1b6bcc8a",
   "metadata": {},
   "source": [
    "## 1.2 Income"
   ]
  },
  {
   "cell_type": "code",
   "execution_count": 64,
   "id": "3c4cf00c",
   "metadata": {},
   "outputs": [
    {
     "data": {
      "text/plain": [
       "count    3.257600e+04\n",
       "mean     6.588214e+04\n",
       "std      5.253499e+04\n",
       "min      4.000000e+03\n",
       "25%      3.850000e+04\n",
       "50%      5.500000e+04\n",
       "75%      7.920000e+04\n",
       "max      2.039784e+06\n",
       "Name: person_income, dtype: float64"
      ]
     },
     "execution_count": 64,
     "metadata": {},
     "output_type": "execute_result"
    }
   ],
   "source": [
    "df['person_income'].describe()"
   ]
  },
  {
   "cell_type": "code",
   "execution_count": 65,
   "id": "159131d4",
   "metadata": {},
   "outputs": [
    {
     "data": {
      "text/plain": [
       "<AxesSubplot:xlabel='person_income', ylabel='Density'>"
      ]
     },
     "execution_count": 65,
     "metadata": {},
     "output_type": "execute_result"
    },
    {
     "data": {
      "image/png": "[encoded data removed]",
      "text/plain": [
       "<Figure size 432x288 with 1 Axes>"
      ]
     },
     "metadata": {},
     "output_type": "display_data"
    }
   ],
   "source": [
    "sns.distplot(df['person_income'])"
   ]
  },
  {
   "cell_type": "code",
   "execution_count": null,
   "id": "f1ab4066",
   "metadata": {},
   "outputs": [],
   "source": []
  },
  {
   "cell_type": "code",
   "execution_count": null,
   "id": "888a5871",
   "metadata": {},
   "outputs": [],
   "source": []
  }
 ],
 "metadata": {
  "kernelspec": {
   "display_name": "Python 3",
   "language": "python",
   "name": "python3"
  },
  "language_info": {
   "codemirror_mode": {
    "name": "ipython",
    "version": 3
   },
   "file_extension": ".py",
   "mimetype": "text/x-python",
   "name": "python",
   "nbconvert_exporter": "python",
   "pygments_lexer": "ipython3",
   "version": "3.8.8"
  }
 },
 "nbformat": 4,
 "nbformat_minor": 5
}
