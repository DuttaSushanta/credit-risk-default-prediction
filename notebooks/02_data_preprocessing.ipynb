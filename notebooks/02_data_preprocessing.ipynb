{
 "cells": [
  {
   "cell_type": "markdown",
   "id": "c51a4c19",
   "metadata": {},
   "source": [
    "# Data Cleaning & Pre-Processing"
   ]
  },
  {
   "cell_type": "markdown",
   "id": "e573dc10",
   "metadata": {},
   "source": [
    "We've performed a basic EDA and gained some useful insights about the influence of various features on whether or not a person will default. Now its time to clean the data and perform some pre-processing so that we can develop models for predicting loan defaulters."
   ]
  },
  {
   "cell_type": "markdown",
   "id": "3f7a1fe4",
   "metadata": {},
   "source": [
    "## Splitting the Dataset"
   ]
  },
  {
   "cell_type": "markdown",
   "id": "296b9dc6",
   "metadata": {},
   "source": [
    "#### IMPORTANT : Every pre-processing technique such as missing value handling, outlier removal, feature engineering, feature scaling all are fitted on the training dataset. So it is mandatory to split the dataset before performing any of these techniques."
   ]
  },
  {
   "cell_type": "markdown",
   "id": "50a35a97",
   "metadata": {},
   "source": [
    "## Transforming the Training Data (using fit_transform() method)"
   ]
  },
  {
   "cell_type": "code",
   "execution_count": 1,
   "id": "d3c89f71",
   "metadata": {},
   "outputs": [],
   "source": [
    "#Load the necessary libraries\n",
    "import numpy as np\n",
    "import pandas as pd\n",
    "import matplotlib.pyplot as plt\n",
    "%matplotlib inline\n",
    "import seaborn as sns\n",
    "from sklearn.model_selection import train_test_split\n",
    "\n",
    "import warnings\n",
    "warnings.filterwarnings(\"ignore\")"
   ]
  },
  {
   "cell_type": "code",
   "execution_count": 2,
   "id": "9520e751",
   "metadata": {},
   "outputs": [],
   "source": [
    "#Load the dataset\n",
    "df = pd.read_csv('D:\\Team Project\\data\\eda\\credit_risk_explored.csv')"
   ]
  },
  {
   "cell_type": "code",
   "execution_count": 3,
   "id": "151e6a85",
   "metadata": {},
   "outputs": [
    {
     "data": {
      "text/html": [
       "<div>\n",
       "<style scoped>\n",
       "    .dataframe tbody tr th:only-of-type {\n",
       "        vertical-align: middle;\n",
       "    }\n",
       "\n",
       "    .dataframe tbody tr th {\n",
       "        vertical-align: top;\n",
       "    }\n",
       "\n",
       "    .dataframe thead th {\n",
       "        text-align: right;\n",
       "    }\n",
       "</style>\n",
       "<table border=\"1\" class=\"dataframe\">\n",
       "  <thead>\n",
       "    <tr style=\"text-align: right;\">\n",
       "      <th></th>\n",
       "      <th>person_age</th>\n",
       "      <th>person_income</th>\n",
       "      <th>person_home_ownership</th>\n",
       "      <th>person_emp_length</th>\n",
       "      <th>loan_intent</th>\n",
       "      <th>loan_grade</th>\n",
       "      <th>loan_amnt</th>\n",
       "      <th>loan_int_rate</th>\n",
       "      <th>loan_status</th>\n",
       "      <th>loan_percent_income</th>\n",
       "      <th>cb_person_default_on_file</th>\n",
       "      <th>cb_person_cred_hist_length</th>\n",
       "    </tr>\n",
       "  </thead>\n",
       "  <tbody>\n",
       "    <tr>\n",
       "      <th>0</th>\n",
       "      <td>21</td>\n",
       "      <td>9600</td>\n",
       "      <td>OWN</td>\n",
       "      <td>5.0</td>\n",
       "      <td>EDUCATION</td>\n",
       "      <td>B</td>\n",
       "      <td>1000</td>\n",
       "      <td>11.14</td>\n",
       "      <td>0</td>\n",
       "      <td>0.10</td>\n",
       "      <td>N</td>\n",
       "      <td>2</td>\n",
       "    </tr>\n",
       "    <tr>\n",
       "      <th>1</th>\n",
       "      <td>25</td>\n",
       "      <td>9600</td>\n",
       "      <td>MORTGAGE</td>\n",
       "      <td>1.0</td>\n",
       "      <td>MEDICAL</td>\n",
       "      <td>C</td>\n",
       "      <td>5500</td>\n",
       "      <td>12.87</td>\n",
       "      <td>1</td>\n",
       "      <td>0.57</td>\n",
       "      <td>N</td>\n",
       "      <td>3</td>\n",
       "    </tr>\n",
       "    <tr>\n",
       "      <th>2</th>\n",
       "      <td>23</td>\n",
       "      <td>65500</td>\n",
       "      <td>RENT</td>\n",
       "      <td>4.0</td>\n",
       "      <td>MEDICAL</td>\n",
       "      <td>C</td>\n",
       "      <td>35000</td>\n",
       "      <td>15.23</td>\n",
       "      <td>1</td>\n",
       "      <td>0.53</td>\n",
       "      <td>N</td>\n",
       "      <td>2</td>\n",
       "    </tr>\n",
       "    <tr>\n",
       "      <th>3</th>\n",
       "      <td>24</td>\n",
       "      <td>54400</td>\n",
       "      <td>RENT</td>\n",
       "      <td>8.0</td>\n",
       "      <td>MEDICAL</td>\n",
       "      <td>C</td>\n",
       "      <td>35000</td>\n",
       "      <td>14.27</td>\n",
       "      <td>1</td>\n",
       "      <td>0.55</td>\n",
       "      <td>Y</td>\n",
       "      <td>4</td>\n",
       "    </tr>\n",
       "    <tr>\n",
       "      <th>4</th>\n",
       "      <td>21</td>\n",
       "      <td>9900</td>\n",
       "      <td>OWN</td>\n",
       "      <td>2.0</td>\n",
       "      <td>VENTURE</td>\n",
       "      <td>A</td>\n",
       "      <td>2500</td>\n",
       "      <td>7.14</td>\n",
       "      <td>1</td>\n",
       "      <td>0.25</td>\n",
       "      <td>N</td>\n",
       "      <td>2</td>\n",
       "    </tr>\n",
       "  </tbody>\n",
       "</table>\n",
       "</div>"
      ],
      "text/plain": [
       "   person_age  person_income person_home_ownership  person_emp_length  \\\n",
       "0          21           9600                   OWN                5.0   \n",
       "1          25           9600              MORTGAGE                1.0   \n",
       "2          23          65500                  RENT                4.0   \n",
       "3          24          54400                  RENT                8.0   \n",
       "4          21           9900                   OWN                2.0   \n",
       "\n",
       "  loan_intent loan_grade  loan_amnt  loan_int_rate  loan_status  \\\n",
       "0   EDUCATION          B       1000          11.14            0   \n",
       "1     MEDICAL          C       5500          12.87            1   \n",
       "2     MEDICAL          C      35000          15.23            1   \n",
       "3     MEDICAL          C      35000          14.27            1   \n",
       "4     VENTURE          A       2500           7.14            1   \n",
       "\n",
       "   loan_percent_income cb_person_default_on_file  cb_person_cred_hist_length  \n",
       "0                 0.10                         N                           2  \n",
       "1                 0.57                         N                           3  \n",
       "2                 0.53                         N                           2  \n",
       "3                 0.55                         Y                           4  \n",
       "4                 0.25                         N                           2  "
      ]
     },
     "execution_count": 3,
     "metadata": {},
     "output_type": "execute_result"
    }
   ],
   "source": [
    "df.head()"
   ]
  },
  {
   "cell_type": "code",
   "execution_count": 4,
   "id": "7080b18f",
   "metadata": {},
   "outputs": [],
   "source": [
    "#Seperate features and target variable\n",
    "X = df.drop('loan_status', axis=1)\n",
    "y = df['loan_status']"
   ]
  },
  {
   "cell_type": "code",
   "execution_count": 5,
   "id": "6c8884e0",
   "metadata": {},
   "outputs": [],
   "source": [
    "# Split the dataset\n",
    "X_train, X_test, y_train, y_test = train_test_split(X, y, test_size=0.2, random_state=42)"
   ]
  },
  {
   "cell_type": "code",
   "execution_count": 6,
   "id": "121df56b",
   "metadata": {},
   "outputs": [
    {
     "name": "stdout",
     "output_type": "stream",
     "text": [
      "Training set shape: X_train: (26059, 11), y_train: (26059,)\n",
      "Test set shape: X_test: (6515, 11), y_test: (6515,)\n"
     ]
    }
   ],
   "source": [
    "# Print the shapes of the resulting splits to verify\n",
    "print(f\"Training set shape: X_train: {X_train.shape}, y_train: {y_train.shape}\")\n",
    "print(f\"Test set shape: X_test: {X_test.shape}, y_test: {y_test.shape}\")"
   ]
  },
  {
   "cell_type": "code",
   "execution_count": 7,
   "id": "dc37825f",
   "metadata": {},
   "outputs": [
    {
     "data": {
      "text/plain": [
       "0    0.78182\n",
       "1    0.21818\n",
       "Name: loan_status, dtype: float64"
      ]
     },
     "execution_count": 7,
     "metadata": {},
     "output_type": "execute_result"
    }
   ],
   "source": [
    "#Checking the proportion of the target variable across training and test data.\n",
    "y.value_counts(normalize=True)"
   ]
  },
  {
   "cell_type": "code",
   "execution_count": 8,
   "id": "f9fc995f",
   "metadata": {},
   "outputs": [
    {
     "data": {
      "text/plain": [
       "0    0.781611\n",
       "1    0.218389\n",
       "Name: loan_status, dtype: float64"
      ]
     },
     "execution_count": 8,
     "metadata": {},
     "output_type": "execute_result"
    }
   ],
   "source": [
    "y_train.value_counts(normalize=True)"
   ]
  },
  {
   "cell_type": "code",
   "execution_count": 9,
   "id": "7b37449c",
   "metadata": {},
   "outputs": [
    {
     "data": {
      "text/plain": [
       "0    0.782655\n",
       "1    0.217345\n",
       "Name: loan_status, dtype: float64"
      ]
     },
     "execution_count": 9,
     "metadata": {},
     "output_type": "execute_result"
    }
   ],
   "source": [
    "y_test.value_counts(normalize=True)"
   ]
  },
  {
   "cell_type": "markdown",
   "id": "34c1544e",
   "metadata": {},
   "source": [
    "Here we see that after splitting, the proportion of the target variable is preserved in both training and test datsets."
   ]
  },
  {
   "cell_type": "code",
   "execution_count": 10,
   "id": "5fdaafe8",
   "metadata": {},
   "outputs": [
    {
     "data": {
      "text/plain": [
       "12.153190836179439"
      ]
     },
     "execution_count": 10,
     "metadata": {},
     "output_type": "execute_result"
    }
   ],
   "source": [
    "#Checking for missing values in train data\n",
    "(X_train.shape[0]-X_train.dropna().shape[0])/X_train.shape[0]*100"
   ]
  },
  {
   "cell_type": "code",
   "execution_count": 173,
   "id": "7bc289cb",
   "metadata": {},
   "outputs": [],
   "source": [
    "#There are 12% missing data in the train set"
   ]
  },
  {
   "cell_type": "code",
   "execution_count": 11,
   "id": "c4bdf866",
   "metadata": {},
   "outputs": [
    {
     "data": {
      "text/plain": [
       "11.895625479662318"
      ]
     },
     "execution_count": 11,
     "metadata": {},
     "output_type": "execute_result"
    }
   ],
   "source": [
    "#Checking for missing values in train data\n",
    "(X_test.shape[0]-X_test.dropna().shape[0])/X_test.shape[0]*100"
   ]
  },
  {
   "cell_type": "code",
   "execution_count": 12,
   "id": "e4a8c293",
   "metadata": {},
   "outputs": [],
   "source": [
    "#There are 12% missing data in the test set."
   ]
  },
  {
   "cell_type": "markdown",
   "id": "f4b521cc",
   "metadata": {},
   "source": [
    "So the proportion missing values in training and test data is also preserved."
   ]
  },
  {
   "cell_type": "markdown",
   "id": "fd9c16fd",
   "metadata": {},
   "source": [
    "## 1. Handling Missing Values"
   ]
  },
  {
   "cell_type": "code",
   "execution_count": 13,
   "id": "82df0a10",
   "metadata": {},
   "outputs": [
    {
     "data": {
      "text/plain": [
       "person_age                       0\n",
       "person_income                    0\n",
       "person_home_ownership            0\n",
       "person_emp_length              706\n",
       "loan_intent                      0\n",
       "loan_grade                       0\n",
       "loan_amnt                        0\n",
       "loan_int_rate                 2519\n",
       "loan_percent_income              0\n",
       "cb_person_default_on_file        0\n",
       "cb_person_cred_hist_length       0\n",
       "dtype: int64"
      ]
     },
     "execution_count": 13,
     "metadata": {},
     "output_type": "execute_result"
    }
   ],
   "source": [
    "X_train.isna().sum()"
   ]
  },
  {
   "cell_type": "markdown",
   "id": "da848c0e",
   "metadata": {},
   "source": [
    "Only person_emp_length and loan_int_rate columns have missing values in them."
   ]
  },
  {
   "cell_type": "code",
   "execution_count": 303,
   "id": "507d10fa",
   "metadata": {},
   "outputs": [
    {
     "data": {
      "image/png": "[encoded data removed]",
      "text/plain": [
       "<Figure size 432x288 with 2 Axes>"
      ]
     },
     "metadata": {},
     "output_type": "display_data"
    }
   ],
   "source": [
    "sns.set(style=\"ticks\")\n",
    "\n",
    "\n",
    "f, (ax_box, ax_hist) = plt.subplots(2, sharex=True, \n",
    "                                    gridspec_kw={\"height_ratios\": (.15, .85)})\n",
    "\n",
    "sns.boxplot(df['loan_int_rate'], ax=ax_box, orient= 'h' )\n",
    "sns.distplot(df['loan_int_rate'], kde=False, ax=ax_hist)\n",
    "\n",
    "ax_box.set(yticks=[])\n",
    "sns.despine(ax=ax_hist)\n",
    "sns.despine(ax=ax_box, left=True)"
   ]
  },
  {
   "cell_type": "markdown",
   "id": "8c2e054e",
   "metadata": {},
   "source": [
    "+ The distribution of Loan Interest Rate is positively skewed and contains some outliers. \n",
    "+ As we know, in the case of a skewed distribution median is a more reliable measure central tendency as compared to mean. Hence we will replace the missing values in the column loan_in_rate with its median. "
   ]
  },
  {
   "cell_type": "code",
   "execution_count": 15,
   "id": "fead5c38",
   "metadata": {},
   "outputs": [],
   "source": [
    "#Median imputaion for skewed distribution\n",
    "from sklearn.impute import SimpleImputer\n",
    "\n",
    "imputer = SimpleImputer(strategy='median')\n",
    "\n",
    "X_train['loan_int_rate'] = imputer.fit_transform(X_train[['loan_int_rate']])"
   ]
  },
  {
   "cell_type": "code",
   "execution_count": 16,
   "id": "ed21aeeb",
   "metadata": {},
   "outputs": [
    {
     "data": {
      "image/png": "[encoded data removed]",
      "text/plain": [
       "<Figure size 432x288 with 2 Axes>"
      ]
     },
     "metadata": {},
     "output_type": "display_data"
    }
   ],
   "source": [
    "sns.set(style=\"ticks\")\n",
    "\n",
    "\n",
    "f, (ax_box, ax_hist) = plt.subplots(2, sharex=True, \n",
    "                                    gridspec_kw={\"height_ratios\": (.15, .85)})\n",
    "\n",
    "sns.boxplot(df['person_emp_length'], ax=ax_box, orient = 'h')\n",
    "sns.distplot(df['person_emp_length'], kde=False, ax=ax_hist)\n",
    "\n",
    "ax_box.set(yticks=[])\n",
    "sns.despine(ax=ax_hist)\n",
    "sns.despine(ax=ax_box, left=True)"
   ]
  },
  {
   "cell_type": "markdown",
   "id": "3eb507d5",
   "metadata": {},
   "source": [
    "Employment length of a person is also a highly skewed distribution so we will again perform median imputaion on this column as well."
   ]
  },
  {
   "cell_type": "code",
   "execution_count": 17,
   "id": "a9266a17",
   "metadata": {},
   "outputs": [],
   "source": [
    "#Median imputaion for skewed distribution\n",
    "from sklearn.impute import SimpleImputer\n",
    "\n",
    "imputer = SimpleImputer(strategy='median')\n",
    "\n",
    "X_train['person_emp_length'] = imputer.fit_transform(X_train[['person_emp_length']])"
   ]
  },
  {
   "cell_type": "code",
   "execution_count": 19,
   "id": "c7a0df1f",
   "metadata": {},
   "outputs": [],
   "source": [
    "#No more missing values in the training dataset"
   ]
  },
  {
   "cell_type": "code",
   "execution_count": 18,
   "id": "9413b1e0",
   "metadata": {},
   "outputs": [
    {
     "data": {
      "text/plain": [
       "person_age                    0\n",
       "person_income                 0\n",
       "person_home_ownership         0\n",
       "person_emp_length             0\n",
       "loan_intent                   0\n",
       "loan_grade                    0\n",
       "loan_amnt                     0\n",
       "loan_int_rate                 0\n",
       "loan_percent_income           0\n",
       "cb_person_default_on_file     0\n",
       "cb_person_cred_hist_length    0\n",
       "dtype: int64"
      ]
     },
     "execution_count": 18,
     "metadata": {},
     "output_type": "execute_result"
    }
   ],
   "source": [
    "X_train.isna().sum()"
   ]
  },
  {
   "cell_type": "markdown",
   "id": "e01b35f5",
   "metadata": {},
   "source": [
    "## 2. Encoding Categorical Variables"
   ]
  },
  {
   "cell_type": "markdown",
   "id": "1fb7d20d",
   "metadata": {},
   "source": [
    "### One-hot Encoding and Label Encoding\n",
    "\n",
    "+ For Nominal Categorical Variables we use one-hot-encoding\n",
    "+ For Ordinal Categorical Variables we use label encoding"
   ]
  },
  {
   "cell_type": "markdown",
   "id": "742d0fee",
   "metadata": {},
   "source": [
    "Here,\n",
    "+ 'person_home_ownership', 'loan_intent', 'cb_person_default_on_file' are nominal categorical variables.\n",
    "+ 'loan_grade' is ordinal categorical variable."
   ]
  },
  {
   "cell_type": "code",
   "execution_count": 20,
   "id": "bcff4014",
   "metadata": {},
   "outputs": [],
   "source": [
    "#Extract categorical columns from the dataframe\n",
    "categorical_columns = X_train.select_dtypes(include=['object']).columns.tolist()"
   ]
  },
  {
   "cell_type": "code",
   "execution_count": 21,
   "id": "cada6fcc",
   "metadata": {},
   "outputs": [],
   "source": [
    "#Removing the ordinal variable loan_grade\n",
    "categorical_columns.remove('loan_grade')"
   ]
  },
  {
   "cell_type": "code",
   "execution_count": 22,
   "id": "53a70fc0",
   "metadata": {},
   "outputs": [
    {
     "data": {
      "text/plain": [
       "['person_home_ownership', 'loan_intent', 'cb_person_default_on_file']"
      ]
     },
     "execution_count": 22,
     "metadata": {},
     "output_type": "execute_result"
    }
   ],
   "source": [
    "categorical_columns"
   ]
  },
  {
   "cell_type": "markdown",
   "id": "b5893fdd",
   "metadata": {},
   "source": [
    "#### One-Hot-Encoding"
   ]
  },
  {
   "cell_type": "code",
   "execution_count": 23,
   "id": "c0e95c05",
   "metadata": {},
   "outputs": [],
   "source": [
    "from sklearn.preprocessing import OneHotEncoder\n",
    "\n",
    "#Inititalize one-hot-encoder\n",
    "ohe = OneHotEncoder(sparse=False)\n",
    "\n",
    "#Apply one-hot-encoding to the categorical columns\n",
    "ohe_encoded = ohe.fit_transform(X_train[categorical_columns])\n",
    "\n",
    "#Create a DataFrame with one-hot-encoded columns\n",
    "#We use get_feature_names() to get the column names for the encoded data\n",
    "ohe_df = pd.DataFrame(ohe_encoded,\n",
    "                     columns=ohe.get_feature_names(categorical_columns))"
   ]
  },
  {
   "cell_type": "code",
   "execution_count": 24,
   "id": "3b20a800",
   "metadata": {},
   "outputs": [
    {
     "data": {
      "text/html": [
       "<div>\n",
       "<style scoped>\n",
       "    .dataframe tbody tr th:only-of-type {\n",
       "        vertical-align: middle;\n",
       "    }\n",
       "\n",
       "    .dataframe tbody tr th {\n",
       "        vertical-align: top;\n",
       "    }\n",
       "\n",
       "    .dataframe thead th {\n",
       "        text-align: right;\n",
       "    }\n",
       "</style>\n",
       "<table border=\"1\" class=\"dataframe\">\n",
       "  <thead>\n",
       "    <tr style=\"text-align: right;\">\n",
       "      <th></th>\n",
       "      <th>person_home_ownership_MORTGAGE</th>\n",
       "      <th>person_home_ownership_OTHER</th>\n",
       "      <th>person_home_ownership_OWN</th>\n",
       "      <th>person_home_ownership_RENT</th>\n",
       "      <th>loan_intent_DEBTCONSOLIDATION</th>\n",
       "      <th>loan_intent_EDUCATION</th>\n",
       "      <th>loan_intent_HOMEIMPROVEMENT</th>\n",
       "      <th>loan_intent_MEDICAL</th>\n",
       "      <th>loan_intent_PERSONAL</th>\n",
       "      <th>loan_intent_VENTURE</th>\n",
       "      <th>cb_person_default_on_file_N</th>\n",
       "      <th>cb_person_default_on_file_Y</th>\n",
       "    </tr>\n",
       "  </thead>\n",
       "  <tbody>\n",
       "    <tr>\n",
       "      <th>0</th>\n",
       "      <td>1.0</td>\n",
       "      <td>0.0</td>\n",
       "      <td>0.0</td>\n",
       "      <td>0.0</td>\n",
       "      <td>1.0</td>\n",
       "      <td>0.0</td>\n",
       "      <td>0.0</td>\n",
       "      <td>0.0</td>\n",
       "      <td>0.0</td>\n",
       "      <td>0.0</td>\n",
       "      <td>0.0</td>\n",
       "      <td>1.0</td>\n",
       "    </tr>\n",
       "    <tr>\n",
       "      <th>1</th>\n",
       "      <td>0.0</td>\n",
       "      <td>0.0</td>\n",
       "      <td>1.0</td>\n",
       "      <td>0.0</td>\n",
       "      <td>0.0</td>\n",
       "      <td>0.0</td>\n",
       "      <td>0.0</td>\n",
       "      <td>0.0</td>\n",
       "      <td>0.0</td>\n",
       "      <td>1.0</td>\n",
       "      <td>1.0</td>\n",
       "      <td>0.0</td>\n",
       "    </tr>\n",
       "    <tr>\n",
       "      <th>2</th>\n",
       "      <td>0.0</td>\n",
       "      <td>0.0</td>\n",
       "      <td>0.0</td>\n",
       "      <td>1.0</td>\n",
       "      <td>0.0</td>\n",
       "      <td>0.0</td>\n",
       "      <td>0.0</td>\n",
       "      <td>0.0</td>\n",
       "      <td>0.0</td>\n",
       "      <td>1.0</td>\n",
       "      <td>1.0</td>\n",
       "      <td>0.0</td>\n",
       "    </tr>\n",
       "    <tr>\n",
       "      <th>3</th>\n",
       "      <td>0.0</td>\n",
       "      <td>0.0</td>\n",
       "      <td>0.0</td>\n",
       "      <td>1.0</td>\n",
       "      <td>0.0</td>\n",
       "      <td>0.0</td>\n",
       "      <td>1.0</td>\n",
       "      <td>0.0</td>\n",
       "      <td>0.0</td>\n",
       "      <td>0.0</td>\n",
       "      <td>1.0</td>\n",
       "      <td>0.0</td>\n",
       "    </tr>\n",
       "    <tr>\n",
       "      <th>4</th>\n",
       "      <td>0.0</td>\n",
       "      <td>0.0</td>\n",
       "      <td>0.0</td>\n",
       "      <td>1.0</td>\n",
       "      <td>0.0</td>\n",
       "      <td>0.0</td>\n",
       "      <td>0.0</td>\n",
       "      <td>0.0</td>\n",
       "      <td>0.0</td>\n",
       "      <td>1.0</td>\n",
       "      <td>1.0</td>\n",
       "      <td>0.0</td>\n",
       "    </tr>\n",
       "  </tbody>\n",
       "</table>\n",
       "</div>"
      ],
      "text/plain": [
       "   person_home_ownership_MORTGAGE  person_home_ownership_OTHER  \\\n",
       "0                             1.0                          0.0   \n",
       "1                             0.0                          0.0   \n",
       "2                             0.0                          0.0   \n",
       "3                             0.0                          0.0   \n",
       "4                             0.0                          0.0   \n",
       "\n",
       "   person_home_ownership_OWN  person_home_ownership_RENT  \\\n",
       "0                        0.0                         0.0   \n",
       "1                        1.0                         0.0   \n",
       "2                        0.0                         1.0   \n",
       "3                        0.0                         1.0   \n",
       "4                        0.0                         1.0   \n",
       "\n",
       "   loan_intent_DEBTCONSOLIDATION  loan_intent_EDUCATION  \\\n",
       "0                            1.0                    0.0   \n",
       "1                            0.0                    0.0   \n",
       "2                            0.0                    0.0   \n",
       "3                            0.0                    0.0   \n",
       "4                            0.0                    0.0   \n",
       "\n",
       "   loan_intent_HOMEIMPROVEMENT  loan_intent_MEDICAL  loan_intent_PERSONAL  \\\n",
       "0                          0.0                  0.0                   0.0   \n",
       "1                          0.0                  0.0                   0.0   \n",
       "2                          0.0                  0.0                   0.0   \n",
       "3                          1.0                  0.0                   0.0   \n",
       "4                          0.0                  0.0                   0.0   \n",
       "\n",
       "   loan_intent_VENTURE  cb_person_default_on_file_N  \\\n",
       "0                  0.0                          0.0   \n",
       "1                  1.0                          1.0   \n",
       "2                  1.0                          1.0   \n",
       "3                  0.0                          1.0   \n",
       "4                  1.0                          1.0   \n",
       "\n",
       "   cb_person_default_on_file_Y  \n",
       "0                          1.0  \n",
       "1                          0.0  \n",
       "2                          0.0  \n",
       "3                          0.0  \n",
       "4                          0.0  "
      ]
     },
     "execution_count": 24,
     "metadata": {},
     "output_type": "execute_result"
    }
   ],
   "source": [
    "ohe_df.head()"
   ]
  },
  {
   "cell_type": "code",
   "execution_count": 25,
   "id": "2c017151",
   "metadata": {},
   "outputs": [],
   "source": [
    "# Reset indices to ensure alignment\n",
    "X_train.reset_index(drop=True, inplace=True)\n",
    "ohe_df.reset_index(drop=True, inplace=True)\n",
    "\n",
    "#Concatenate the one-hot-encoded dataframe with the original data-frame\n",
    "X_train_encoded = pd.concat([X_train,ohe_df],axis=1)\n",
    "\n",
    "# Drop the original categorical columns\n",
    "X_train_encoded = X_train_encoded.drop(categorical_columns, axis=1)"
   ]
  },
  {
   "cell_type": "code",
   "execution_count": 26,
   "id": "9053bdc6",
   "metadata": {},
   "outputs": [
    {
     "data": {
      "text/html": [
       "<div>\n",
       "<style scoped>\n",
       "    .dataframe tbody tr th:only-of-type {\n",
       "        vertical-align: middle;\n",
       "    }\n",
       "\n",
       "    .dataframe tbody tr th {\n",
       "        vertical-align: top;\n",
       "    }\n",
       "\n",
       "    .dataframe thead th {\n",
       "        text-align: right;\n",
       "    }\n",
       "</style>\n",
       "<table border=\"1\" class=\"dataframe\">\n",
       "  <thead>\n",
       "    <tr style=\"text-align: right;\">\n",
       "      <th></th>\n",
       "      <th>person_age</th>\n",
       "      <th>person_income</th>\n",
       "      <th>person_emp_length</th>\n",
       "      <th>loan_grade</th>\n",
       "      <th>loan_amnt</th>\n",
       "      <th>loan_int_rate</th>\n",
       "      <th>loan_percent_income</th>\n",
       "      <th>cb_person_cred_hist_length</th>\n",
       "      <th>person_home_ownership_MORTGAGE</th>\n",
       "      <th>person_home_ownership_OTHER</th>\n",
       "      <th>person_home_ownership_OWN</th>\n",
       "      <th>person_home_ownership_RENT</th>\n",
       "      <th>loan_intent_DEBTCONSOLIDATION</th>\n",
       "      <th>loan_intent_EDUCATION</th>\n",
       "      <th>loan_intent_HOMEIMPROVEMENT</th>\n",
       "      <th>loan_intent_MEDICAL</th>\n",
       "      <th>loan_intent_PERSONAL</th>\n",
       "      <th>loan_intent_VENTURE</th>\n",
       "      <th>cb_person_default_on_file_N</th>\n",
       "      <th>cb_person_default_on_file_Y</th>\n",
       "    </tr>\n",
       "  </thead>\n",
       "  <tbody>\n",
       "    <tr>\n",
       "      <th>0</th>\n",
       "      <td>23</td>\n",
       "      <td>100000</td>\n",
       "      <td>5.0</td>\n",
       "      <td>C</td>\n",
       "      <td>15000</td>\n",
       "      <td>11.34</td>\n",
       "      <td>0.15</td>\n",
       "      <td>2</td>\n",
       "      <td>1.0</td>\n",
       "      <td>0.0</td>\n",
       "      <td>0.0</td>\n",
       "      <td>0.0</td>\n",
       "      <td>1.0</td>\n",
       "      <td>0.0</td>\n",
       "      <td>0.0</td>\n",
       "      <td>0.0</td>\n",
       "      <td>0.0</td>\n",
       "      <td>0.0</td>\n",
       "      <td>0.0</td>\n",
       "      <td>1.0</td>\n",
       "    </tr>\n",
       "    <tr>\n",
       "      <th>1</th>\n",
       "      <td>27</td>\n",
       "      <td>130000</td>\n",
       "      <td>12.0</td>\n",
       "      <td>B</td>\n",
       "      <td>21000</td>\n",
       "      <td>10.99</td>\n",
       "      <td>0.16</td>\n",
       "      <td>9</td>\n",
       "      <td>0.0</td>\n",
       "      <td>0.0</td>\n",
       "      <td>1.0</td>\n",
       "      <td>0.0</td>\n",
       "      <td>0.0</td>\n",
       "      <td>0.0</td>\n",
       "      <td>0.0</td>\n",
       "      <td>0.0</td>\n",
       "      <td>0.0</td>\n",
       "      <td>1.0</td>\n",
       "      <td>1.0</td>\n",
       "      <td>0.0</td>\n",
       "    </tr>\n",
       "    <tr>\n",
       "      <th>2</th>\n",
       "      <td>27</td>\n",
       "      <td>45150</td>\n",
       "      <td>1.0</td>\n",
       "      <td>C</td>\n",
       "      <td>18000</td>\n",
       "      <td>13.16</td>\n",
       "      <td>0.40</td>\n",
       "      <td>7</td>\n",
       "      <td>0.0</td>\n",
       "      <td>0.0</td>\n",
       "      <td>0.0</td>\n",
       "      <td>1.0</td>\n",
       "      <td>0.0</td>\n",
       "      <td>0.0</td>\n",
       "      <td>0.0</td>\n",
       "      <td>0.0</td>\n",
       "      <td>0.0</td>\n",
       "      <td>1.0</td>\n",
       "      <td>1.0</td>\n",
       "      <td>0.0</td>\n",
       "    </tr>\n",
       "    <tr>\n",
       "      <th>3</th>\n",
       "      <td>22</td>\n",
       "      <td>28000</td>\n",
       "      <td>6.0</td>\n",
       "      <td>B</td>\n",
       "      <td>1000</td>\n",
       "      <td>10.25</td>\n",
       "      <td>0.04</td>\n",
       "      <td>4</td>\n",
       "      <td>0.0</td>\n",
       "      <td>0.0</td>\n",
       "      <td>0.0</td>\n",
       "      <td>1.0</td>\n",
       "      <td>0.0</td>\n",
       "      <td>0.0</td>\n",
       "      <td>1.0</td>\n",
       "      <td>0.0</td>\n",
       "      <td>0.0</td>\n",
       "      <td>0.0</td>\n",
       "      <td>1.0</td>\n",
       "      <td>0.0</td>\n",
       "    </tr>\n",
       "    <tr>\n",
       "      <th>4</th>\n",
       "      <td>22</td>\n",
       "      <td>55000</td>\n",
       "      <td>3.0</td>\n",
       "      <td>A</td>\n",
       "      <td>7000</td>\n",
       "      <td>6.91</td>\n",
       "      <td>0.13</td>\n",
       "      <td>4</td>\n",
       "      <td>0.0</td>\n",
       "      <td>0.0</td>\n",
       "      <td>0.0</td>\n",
       "      <td>1.0</td>\n",
       "      <td>0.0</td>\n",
       "      <td>0.0</td>\n",
       "      <td>0.0</td>\n",
       "      <td>0.0</td>\n",
       "      <td>0.0</td>\n",
       "      <td>1.0</td>\n",
       "      <td>1.0</td>\n",
       "      <td>0.0</td>\n",
       "    </tr>\n",
       "  </tbody>\n",
       "</table>\n",
       "</div>"
      ],
      "text/plain": [
       "   person_age  person_income  person_emp_length loan_grade  loan_amnt  \\\n",
       "0          23         100000                5.0          C      15000   \n",
       "1          27         130000               12.0          B      21000   \n",
       "2          27          45150                1.0          C      18000   \n",
       "3          22          28000                6.0          B       1000   \n",
       "4          22          55000                3.0          A       7000   \n",
       "\n",
       "   loan_int_rate  loan_percent_income  cb_person_cred_hist_length  \\\n",
       "0          11.34                 0.15                           2   \n",
       "1          10.99                 0.16                           9   \n",
       "2          13.16                 0.40                           7   \n",
       "3          10.25                 0.04                           4   \n",
       "4           6.91                 0.13                           4   \n",
       "\n",
       "   person_home_ownership_MORTGAGE  person_home_ownership_OTHER  \\\n",
       "0                             1.0                          0.0   \n",
       "1                             0.0                          0.0   \n",
       "2                             0.0                          0.0   \n",
       "3                             0.0                          0.0   \n",
       "4                             0.0                          0.0   \n",
       "\n",
       "   person_home_ownership_OWN  person_home_ownership_RENT  \\\n",
       "0                        0.0                         0.0   \n",
       "1                        1.0                         0.0   \n",
       "2                        0.0                         1.0   \n",
       "3                        0.0                         1.0   \n",
       "4                        0.0                         1.0   \n",
       "\n",
       "   loan_intent_DEBTCONSOLIDATION  loan_intent_EDUCATION  \\\n",
       "0                            1.0                    0.0   \n",
       "1                            0.0                    0.0   \n",
       "2                            0.0                    0.0   \n",
       "3                            0.0                    0.0   \n",
       "4                            0.0                    0.0   \n",
       "\n",
       "   loan_intent_HOMEIMPROVEMENT  loan_intent_MEDICAL  loan_intent_PERSONAL  \\\n",
       "0                          0.0                  0.0                   0.0   \n",
       "1                          0.0                  0.0                   0.0   \n",
       "2                          0.0                  0.0                   0.0   \n",
       "3                          1.0                  0.0                   0.0   \n",
       "4                          0.0                  0.0                   0.0   \n",
       "\n",
       "   loan_intent_VENTURE  cb_person_default_on_file_N  \\\n",
       "0                  0.0                          0.0   \n",
       "1                  1.0                          1.0   \n",
       "2                  1.0                          1.0   \n",
       "3                  0.0                          1.0   \n",
       "4                  1.0                          1.0   \n",
       "\n",
       "   cb_person_default_on_file_Y  \n",
       "0                          1.0  \n",
       "1                          0.0  \n",
       "2                          0.0  \n",
       "3                          0.0  \n",
       "4                          0.0  "
      ]
     },
     "execution_count": 26,
     "metadata": {},
     "output_type": "execute_result"
    }
   ],
   "source": [
    "#Display the resulting training dataset\n",
    "X_train_encoded.head()"
   ]
  },
  {
   "cell_type": "markdown",
   "id": "85ad83c1",
   "metadata": {},
   "source": [
    "#### Label Encoding"
   ]
  },
  {
   "cell_type": "code",
   "execution_count": 27,
   "id": "ed9e4c22",
   "metadata": {},
   "outputs": [],
   "source": [
    "from sklearn.preprocessing import LabelEncoder\n",
    "\n",
    "#Initialize label encoder\n",
    "le = LabelEncoder()\n",
    "\n",
    "#Encode label in column 'loan_grade'\n",
    "X_train_encoded['loan_grade'] = le.fit_transform(X_train_encoded['loan_grade'])"
   ]
  },
  {
   "cell_type": "code",
   "execution_count": 28,
   "id": "ed674339",
   "metadata": {},
   "outputs": [
    {
     "data": {
      "text/plain": [
       "{'A': 0, 'B': 1, 'C': 2, 'D': 3, 'E': 4, 'F': 5, 'G': 6}"
      ]
     },
     "execution_count": 28,
     "metadata": {},
     "output_type": "execute_result"
    }
   ],
   "source": [
    "#Displaying which class got encoded to which numerical values\n",
    "dict(zip(le.classes_,range(len(le.classes_))))"
   ]
  },
  {
   "cell_type": "code",
   "execution_count": 29,
   "id": "7eb304c3",
   "metadata": {},
   "outputs": [
    {
     "data": {
      "text/html": [
       "<div>\n",
       "<style scoped>\n",
       "    .dataframe tbody tr th:only-of-type {\n",
       "        vertical-align: middle;\n",
       "    }\n",
       "\n",
       "    .dataframe tbody tr th {\n",
       "        vertical-align: top;\n",
       "    }\n",
       "\n",
       "    .dataframe thead th {\n",
       "        text-align: right;\n",
       "    }\n",
       "</style>\n",
       "<table border=\"1\" class=\"dataframe\">\n",
       "  <thead>\n",
       "    <tr style=\"text-align: right;\">\n",
       "      <th></th>\n",
       "      <th>person_age</th>\n",
       "      <th>person_income</th>\n",
       "      <th>person_emp_length</th>\n",
       "      <th>loan_grade</th>\n",
       "      <th>loan_amnt</th>\n",
       "      <th>loan_int_rate</th>\n",
       "      <th>loan_percent_income</th>\n",
       "      <th>cb_person_cred_hist_length</th>\n",
       "      <th>person_home_ownership_MORTGAGE</th>\n",
       "      <th>person_home_ownership_OTHER</th>\n",
       "      <th>person_home_ownership_OWN</th>\n",
       "      <th>person_home_ownership_RENT</th>\n",
       "      <th>loan_intent_DEBTCONSOLIDATION</th>\n",
       "      <th>loan_intent_EDUCATION</th>\n",
       "      <th>loan_intent_HOMEIMPROVEMENT</th>\n",
       "      <th>loan_intent_MEDICAL</th>\n",
       "      <th>loan_intent_PERSONAL</th>\n",
       "      <th>loan_intent_VENTURE</th>\n",
       "      <th>cb_person_default_on_file_N</th>\n",
       "      <th>cb_person_default_on_file_Y</th>\n",
       "    </tr>\n",
       "  </thead>\n",
       "  <tbody>\n",
       "    <tr>\n",
       "      <th>0</th>\n",
       "      <td>23</td>\n",
       "      <td>100000</td>\n",
       "      <td>5.0</td>\n",
       "      <td>2</td>\n",
       "      <td>15000</td>\n",
       "      <td>11.34</td>\n",
       "      <td>0.15</td>\n",
       "      <td>2</td>\n",
       "      <td>1.0</td>\n",
       "      <td>0.0</td>\n",
       "      <td>0.0</td>\n",
       "      <td>0.0</td>\n",
       "      <td>1.0</td>\n",
       "      <td>0.0</td>\n",
       "      <td>0.0</td>\n",
       "      <td>0.0</td>\n",
       "      <td>0.0</td>\n",
       "      <td>0.0</td>\n",
       "      <td>0.0</td>\n",
       "      <td>1.0</td>\n",
       "    </tr>\n",
       "    <tr>\n",
       "      <th>1</th>\n",
       "      <td>27</td>\n",
       "      <td>130000</td>\n",
       "      <td>12.0</td>\n",
       "      <td>1</td>\n",
       "      <td>21000</td>\n",
       "      <td>10.99</td>\n",
       "      <td>0.16</td>\n",
       "      <td>9</td>\n",
       "      <td>0.0</td>\n",
       "      <td>0.0</td>\n",
       "      <td>1.0</td>\n",
       "      <td>0.0</td>\n",
       "      <td>0.0</td>\n",
       "      <td>0.0</td>\n",
       "      <td>0.0</td>\n",
       "      <td>0.0</td>\n",
       "      <td>0.0</td>\n",
       "      <td>1.0</td>\n",
       "      <td>1.0</td>\n",
       "      <td>0.0</td>\n",
       "    </tr>\n",
       "    <tr>\n",
       "      <th>2</th>\n",
       "      <td>27</td>\n",
       "      <td>45150</td>\n",
       "      <td>1.0</td>\n",
       "      <td>2</td>\n",
       "      <td>18000</td>\n",
       "      <td>13.16</td>\n",
       "      <td>0.40</td>\n",
       "      <td>7</td>\n",
       "      <td>0.0</td>\n",
       "      <td>0.0</td>\n",
       "      <td>0.0</td>\n",
       "      <td>1.0</td>\n",
       "      <td>0.0</td>\n",
       "      <td>0.0</td>\n",
       "      <td>0.0</td>\n",
       "      <td>0.0</td>\n",
       "      <td>0.0</td>\n",
       "      <td>1.0</td>\n",
       "      <td>1.0</td>\n",
       "      <td>0.0</td>\n",
       "    </tr>\n",
       "    <tr>\n",
       "      <th>3</th>\n",
       "      <td>22</td>\n",
       "      <td>28000</td>\n",
       "      <td>6.0</td>\n",
       "      <td>1</td>\n",
       "      <td>1000</td>\n",
       "      <td>10.25</td>\n",
       "      <td>0.04</td>\n",
       "      <td>4</td>\n",
       "      <td>0.0</td>\n",
       "      <td>0.0</td>\n",
       "      <td>0.0</td>\n",
       "      <td>1.0</td>\n",
       "      <td>0.0</td>\n",
       "      <td>0.0</td>\n",
       "      <td>1.0</td>\n",
       "      <td>0.0</td>\n",
       "      <td>0.0</td>\n",
       "      <td>0.0</td>\n",
       "      <td>1.0</td>\n",
       "      <td>0.0</td>\n",
       "    </tr>\n",
       "    <tr>\n",
       "      <th>4</th>\n",
       "      <td>22</td>\n",
       "      <td>55000</td>\n",
       "      <td>3.0</td>\n",
       "      <td>0</td>\n",
       "      <td>7000</td>\n",
       "      <td>6.91</td>\n",
       "      <td>0.13</td>\n",
       "      <td>4</td>\n",
       "      <td>0.0</td>\n",
       "      <td>0.0</td>\n",
       "      <td>0.0</td>\n",
       "      <td>1.0</td>\n",
       "      <td>0.0</td>\n",
       "      <td>0.0</td>\n",
       "      <td>0.0</td>\n",
       "      <td>0.0</td>\n",
       "      <td>0.0</td>\n",
       "      <td>1.0</td>\n",
       "      <td>1.0</td>\n",
       "      <td>0.0</td>\n",
       "    </tr>\n",
       "  </tbody>\n",
       "</table>\n",
       "</div>"
      ],
      "text/plain": [
       "   person_age  person_income  person_emp_length  loan_grade  loan_amnt  \\\n",
       "0          23         100000                5.0           2      15000   \n",
       "1          27         130000               12.0           1      21000   \n",
       "2          27          45150                1.0           2      18000   \n",
       "3          22          28000                6.0           1       1000   \n",
       "4          22          55000                3.0           0       7000   \n",
       "\n",
       "   loan_int_rate  loan_percent_income  cb_person_cred_hist_length  \\\n",
       "0          11.34                 0.15                           2   \n",
       "1          10.99                 0.16                           9   \n",
       "2          13.16                 0.40                           7   \n",
       "3          10.25                 0.04                           4   \n",
       "4           6.91                 0.13                           4   \n",
       "\n",
       "   person_home_ownership_MORTGAGE  person_home_ownership_OTHER  \\\n",
       "0                             1.0                          0.0   \n",
       "1                             0.0                          0.0   \n",
       "2                             0.0                          0.0   \n",
       "3                             0.0                          0.0   \n",
       "4                             0.0                          0.0   \n",
       "\n",
       "   person_home_ownership_OWN  person_home_ownership_RENT  \\\n",
       "0                        0.0                         0.0   \n",
       "1                        1.0                         0.0   \n",
       "2                        0.0                         1.0   \n",
       "3                        0.0                         1.0   \n",
       "4                        0.0                         1.0   \n",
       "\n",
       "   loan_intent_DEBTCONSOLIDATION  loan_intent_EDUCATION  \\\n",
       "0                            1.0                    0.0   \n",
       "1                            0.0                    0.0   \n",
       "2                            0.0                    0.0   \n",
       "3                            0.0                    0.0   \n",
       "4                            0.0                    0.0   \n",
       "\n",
       "   loan_intent_HOMEIMPROVEMENT  loan_intent_MEDICAL  loan_intent_PERSONAL  \\\n",
       "0                          0.0                  0.0                   0.0   \n",
       "1                          0.0                  0.0                   0.0   \n",
       "2                          0.0                  0.0                   0.0   \n",
       "3                          1.0                  0.0                   0.0   \n",
       "4                          0.0                  0.0                   0.0   \n",
       "\n",
       "   loan_intent_VENTURE  cb_person_default_on_file_N  \\\n",
       "0                  0.0                          0.0   \n",
       "1                  1.0                          1.0   \n",
       "2                  1.0                          1.0   \n",
       "3                  0.0                          1.0   \n",
       "4                  1.0                          1.0   \n",
       "\n",
       "   cb_person_default_on_file_Y  \n",
       "0                          1.0  \n",
       "1                          0.0  \n",
       "2                          0.0  \n",
       "3                          0.0  \n",
       "4                          0.0  "
      ]
     },
     "execution_count": 29,
     "metadata": {},
     "output_type": "execute_result"
    }
   ],
   "source": [
    "X_train_encoded.head()"
   ]
  },
  {
   "cell_type": "code",
   "execution_count": 30,
   "id": "8e82ee50",
   "metadata": {},
   "outputs": [
    {
     "data": {
      "text/plain": [
       "(26059, 20)"
      ]
     },
     "execution_count": 30,
     "metadata": {},
     "output_type": "execute_result"
    }
   ],
   "source": [
    "#Shape of the training data after encoding categorical variables\n",
    "X_train_encoded.shape"
   ]
  },
  {
   "cell_type": "markdown",
   "id": "04865853",
   "metadata": {},
   "source": [
    "## 3. Feature Scaling & Feature Transformation"
   ]
  },
  {
   "cell_type": "markdown",
   "id": "6b8c28b3",
   "metadata": {},
   "source": [
    "**Feature Scaling** and **Feature Transformation** are applied to numerical features to standardize their scale. This process ensures that no single feature dominates others due to its larger value range.\n"
   ]
  },
  {
   "cell_type": "code",
   "execution_count": 31,
   "id": "82733848",
   "metadata": {},
   "outputs": [],
   "source": [
    "#Extracting the numerical columns\n",
    "numerical_cols = X_train.select_dtypes(include='number').columns.tolist()"
   ]
  },
  {
   "cell_type": "code",
   "execution_count": 32,
   "id": "6ae95e47",
   "metadata": {},
   "outputs": [
    {
     "data": {
      "text/plain": [
       "['person_age',\n",
       " 'person_income',\n",
       " 'person_emp_length',\n",
       " 'loan_amnt',\n",
       " 'loan_int_rate',\n",
       " 'loan_percent_income',\n",
       " 'cb_person_cred_hist_length']"
      ]
     },
     "execution_count": 32,
     "metadata": {},
     "output_type": "execute_result"
    }
   ],
   "source": [
    "numerical_cols"
   ]
  },
  {
   "cell_type": "code",
   "execution_count": 33,
   "id": "a88d738d",
   "metadata": {},
   "outputs": [
    {
     "data": {
      "image/png": "[encoded data removed]",
      "text/plain": [
       "<Figure size 1080x720 with 9 Axes>"
      ]
     },
     "metadata": {},
     "output_type": "display_data"
    }
   ],
   "source": [
    "X_train.hist(bins=30, figsize=(15, 10))\n",
    "plt.show()"
   ]
  },
  {
   "cell_type": "markdown",
   "id": "20f3f4e6",
   "metadata": {},
   "source": [
    "#### The income column is highly skewed and contains many many outliers\n",
    "Extreme outliers in the income column can distort statistical analysis and model performance. "
   ]
  },
  {
   "cell_type": "code",
   "execution_count": 34,
   "id": "82a4d08c",
   "metadata": {},
   "outputs": [
    {
     "data": {
      "text/plain": [
       "<AxesSubplot:xlabel='person_income'>"
      ]
     },
     "execution_count": 34,
     "metadata": {},
     "output_type": "execute_result"
    },
    {
     "data": {
      "image/png": "[encoded data removed]",
      "text/plain": [
       "<Figure size 432x288 with 1 Axes>"
      ]
     },
     "metadata": {},
     "output_type": "display_data"
    }
   ],
   "source": [
    "sns.distplot(X_train_encoded['person_income'],kde=False)"
   ]
  },
  {
   "cell_type": "markdown",
   "id": "40e093f0",
   "metadata": {},
   "source": [
    "#### Performing log transformation on income column to make it more appropriate for standard scaling"
   ]
  },
  {
   "cell_type": "code",
   "execution_count": 35,
   "id": "ee2e0eba",
   "metadata": {},
   "outputs": [],
   "source": [
    "X_train_encoded['log_income'] = np.log(X_train_encoded['person_income'])"
   ]
  },
  {
   "cell_type": "code",
   "execution_count": 36,
   "id": "122b5a3e",
   "metadata": {},
   "outputs": [
    {
     "data": {
      "text/plain": [
       "<AxesSubplot:xlabel='log_income'>"
      ]
     },
     "execution_count": 36,
     "metadata": {},
     "output_type": "execute_result"
    },
    {
     "data": {
      "image/png": "[encoded data removed]",
      "text/plain": [
       "<Figure size 432x288 with 1 Axes>"
      ]
     },
     "metadata": {},
     "output_type": "display_data"
    }
   ],
   "source": [
    "sns.distplot(X_train_encoded['log_income'],kde=False)"
   ]
  },
  {
   "cell_type": "markdown",
   "id": "8b6eaa3e",
   "metadata": {},
   "source": [
    "Now the income distribution is a bell shaped curve and will respond much more better to standard scaling method.\n",
    "Some statistical models (e.g. Linear Regression, Logistic Regression) assumes normality of features so log transformation is essential in such situations to make the data more bell shaped (normal curve)."
   ]
  },
  {
   "cell_type": "code",
   "execution_count": 37,
   "id": "03a3739f",
   "metadata": {},
   "outputs": [],
   "source": [
    "#Drop the original income column from training data\n",
    "X_train_encoded = X_train_encoded.drop('person_income',axis=1)"
   ]
  },
  {
   "cell_type": "markdown",
   "id": "168d883a",
   "metadata": {},
   "source": [
    "#### Based on the shape of their distribution we will perform the following scaling methods\n",
    "+ Standard scaling (Z-standardization) for log_income, loan_amnt, loan_int_rate, loan_percent_income\n",
    "+ Min-max scaling for person_age,  person_emp_length, cb_person_cred_hist_length"
   ]
  },
  {
   "cell_type": "code",
   "execution_count": 38,
   "id": "686fc6ae",
   "metadata": {},
   "outputs": [],
   "source": [
    "num_cols1 = ['log_income','loan_amnt','loan_int_rate','loan_percent_income']\n",
    "num_cols2 = ['person_age','person_emp_length','cb_person_cred_hist_length']"
   ]
  },
  {
   "cell_type": "code",
   "execution_count": 39,
   "id": "1e696605",
   "metadata": {},
   "outputs": [],
   "source": [
    "from sklearn.preprocessing import StandardScaler, MinMaxScaler\n",
    "\n",
    "#Initialize standardscaler and min-max scaler\n",
    "std_scaler = StandardScaler()\n",
    "mm_scaler = MinMaxScaler()\n",
    "\n",
    "#Applying feature scaling methods to the respective columns\n",
    "X_train_encoded[num_cols1] = pd.DataFrame(std_scaler.fit_transform(X_train_encoded[num_cols1]))\n",
    "X_train_encoded[num_cols2] = pd.DataFrame(mm_scaler.fit_transform(X_train_encoded[num_cols2]))"
   ]
  },
  {
   "cell_type": "code",
   "execution_count": 40,
   "id": "f5c2d88d",
   "metadata": {},
   "outputs": [],
   "source": [
    "#Renaming training dataset \n",
    "X_train_scaled = X_train_encoded"
   ]
  },
  {
   "cell_type": "code",
   "execution_count": 41,
   "id": "f8e3af03",
   "metadata": {},
   "outputs": [
    {
     "data": {
      "text/html": [
       "<div>\n",
       "<style scoped>\n",
       "    .dataframe tbody tr th:only-of-type {\n",
       "        vertical-align: middle;\n",
       "    }\n",
       "\n",
       "    .dataframe tbody tr th {\n",
       "        vertical-align: top;\n",
       "    }\n",
       "\n",
       "    .dataframe thead th {\n",
       "        text-align: right;\n",
       "    }\n",
       "</style>\n",
       "<table border=\"1\" class=\"dataframe\">\n",
       "  <thead>\n",
       "    <tr style=\"text-align: right;\">\n",
       "      <th></th>\n",
       "      <th>person_age</th>\n",
       "      <th>person_emp_length</th>\n",
       "      <th>loan_grade</th>\n",
       "      <th>loan_amnt</th>\n",
       "      <th>loan_int_rate</th>\n",
       "      <th>loan_percent_income</th>\n",
       "      <th>cb_person_cred_hist_length</th>\n",
       "      <th>person_home_ownership_MORTGAGE</th>\n",
       "      <th>person_home_ownership_OTHER</th>\n",
       "      <th>person_home_ownership_OWN</th>\n",
       "      <th>person_home_ownership_RENT</th>\n",
       "      <th>loan_intent_DEBTCONSOLIDATION</th>\n",
       "      <th>loan_intent_EDUCATION</th>\n",
       "      <th>loan_intent_HOMEIMPROVEMENT</th>\n",
       "      <th>loan_intent_MEDICAL</th>\n",
       "      <th>loan_intent_PERSONAL</th>\n",
       "      <th>loan_intent_VENTURE</th>\n",
       "      <th>cb_person_default_on_file_N</th>\n",
       "      <th>cb_person_default_on_file_Y</th>\n",
       "      <th>log_income</th>\n",
       "    </tr>\n",
       "  </thead>\n",
       "  <tbody>\n",
       "    <tr>\n",
       "      <th>0</th>\n",
       "      <td>0.040541</td>\n",
       "      <td>0.121951</td>\n",
       "      <td>2</td>\n",
       "      <td>0.850355</td>\n",
       "      <td>0.105479</td>\n",
       "      <td>-0.192213</td>\n",
       "      <td>0.000000</td>\n",
       "      <td>1.0</td>\n",
       "      <td>0.0</td>\n",
       "      <td>0.0</td>\n",
       "      <td>0.0</td>\n",
       "      <td>1.0</td>\n",
       "      <td>0.0</td>\n",
       "      <td>0.0</td>\n",
       "      <td>0.0</td>\n",
       "      <td>0.0</td>\n",
       "      <td>0.0</td>\n",
       "      <td>0.0</td>\n",
       "      <td>1.0</td>\n",
       "      <td>1.039575</td>\n",
       "    </tr>\n",
       "    <tr>\n",
       "      <th>1</th>\n",
       "      <td>0.094595</td>\n",
       "      <td>0.292683</td>\n",
       "      <td>1</td>\n",
       "      <td>1.796568</td>\n",
       "      <td>-0.008377</td>\n",
       "      <td>-0.098697</td>\n",
       "      <td>0.250000</td>\n",
       "      <td>0.0</td>\n",
       "      <td>0.0</td>\n",
       "      <td>1.0</td>\n",
       "      <td>0.0</td>\n",
       "      <td>0.0</td>\n",
       "      <td>0.0</td>\n",
       "      <td>0.0</td>\n",
       "      <td>0.0</td>\n",
       "      <td>0.0</td>\n",
       "      <td>1.0</td>\n",
       "      <td>1.0</td>\n",
       "      <td>0.0</td>\n",
       "      <td>1.503153</td>\n",
       "    </tr>\n",
       "    <tr>\n",
       "      <th>2</th>\n",
       "      <td>0.094595</td>\n",
       "      <td>0.024390</td>\n",
       "      <td>2</td>\n",
       "      <td>1.323462</td>\n",
       "      <td>0.697531</td>\n",
       "      <td>2.145675</td>\n",
       "      <td>0.178571</td>\n",
       "      <td>0.0</td>\n",
       "      <td>0.0</td>\n",
       "      <td>0.0</td>\n",
       "      <td>1.0</td>\n",
       "      <td>0.0</td>\n",
       "      <td>0.0</td>\n",
       "      <td>0.0</td>\n",
       "      <td>0.0</td>\n",
       "      <td>0.0</td>\n",
       "      <td>1.0</td>\n",
       "      <td>1.0</td>\n",
       "      <td>0.0</td>\n",
       "      <td>-0.365450</td>\n",
       "    </tr>\n",
       "    <tr>\n",
       "      <th>3</th>\n",
       "      <td>0.027027</td>\n",
       "      <td>0.146341</td>\n",
       "      <td>1</td>\n",
       "      <td>-1.357474</td>\n",
       "      <td>-0.249101</td>\n",
       "      <td>-1.220884</td>\n",
       "      <td>0.071429</td>\n",
       "      <td>0.0</td>\n",
       "      <td>0.0</td>\n",
       "      <td>0.0</td>\n",
       "      <td>1.0</td>\n",
       "      <td>0.0</td>\n",
       "      <td>0.0</td>\n",
       "      <td>1.0</td>\n",
       "      <td>0.0</td>\n",
       "      <td>0.0</td>\n",
       "      <td>0.0</td>\n",
       "      <td>1.0</td>\n",
       "      <td>0.0</td>\n",
       "      <td>-1.209662</td>\n",
       "    </tr>\n",
       "    <tr>\n",
       "      <th>4</th>\n",
       "      <td>0.027027</td>\n",
       "      <td>0.073171</td>\n",
       "      <td>0</td>\n",
       "      <td>-0.411262</td>\n",
       "      <td>-1.335614</td>\n",
       "      <td>-0.379244</td>\n",
       "      <td>0.071429</td>\n",
       "      <td>0.0</td>\n",
       "      <td>0.0</td>\n",
       "      <td>0.0</td>\n",
       "      <td>1.0</td>\n",
       "      <td>0.0</td>\n",
       "      <td>0.0</td>\n",
       "      <td>0.0</td>\n",
       "      <td>0.0</td>\n",
       "      <td>0.0</td>\n",
       "      <td>1.0</td>\n",
       "      <td>1.0</td>\n",
       "      <td>0.0</td>\n",
       "      <td>-0.016759</td>\n",
       "    </tr>\n",
       "    <tr>\n",
       "      <th>...</th>\n",
       "      <td>...</td>\n",
       "      <td>...</td>\n",
       "      <td>...</td>\n",
       "      <td>...</td>\n",
       "      <td>...</td>\n",
       "      <td>...</td>\n",
       "      <td>...</td>\n",
       "      <td>...</td>\n",
       "      <td>...</td>\n",
       "      <td>...</td>\n",
       "      <td>...</td>\n",
       "      <td>...</td>\n",
       "      <td>...</td>\n",
       "      <td>...</td>\n",
       "      <td>...</td>\n",
       "      <td>...</td>\n",
       "      <td>...</td>\n",
       "      <td>...</td>\n",
       "      <td>...</td>\n",
       "      <td>...</td>\n",
       "    </tr>\n",
       "    <tr>\n",
       "      <th>26054</th>\n",
       "      <td>0.310811</td>\n",
       "      <td>0.292683</td>\n",
       "      <td>1</td>\n",
       "      <td>-0.253559</td>\n",
       "      <td>-0.333680</td>\n",
       "      <td>0.368880</td>\n",
       "      <td>0.500000</td>\n",
       "      <td>1.0</td>\n",
       "      <td>0.0</td>\n",
       "      <td>0.0</td>\n",
       "      <td>0.0</td>\n",
       "      <td>0.0</td>\n",
       "      <td>0.0</td>\n",
       "      <td>0.0</td>\n",
       "      <td>0.0</td>\n",
       "      <td>0.0</td>\n",
       "      <td>1.0</td>\n",
       "      <td>1.0</td>\n",
       "      <td>0.0</td>\n",
       "      <td>-0.624178</td>\n",
       "    </tr>\n",
       "    <tr>\n",
       "      <th>26055</th>\n",
       "      <td>0.054054</td>\n",
       "      <td>0.195122</td>\n",
       "      <td>0</td>\n",
       "      <td>-0.726666</td>\n",
       "      <td>-1.699954</td>\n",
       "      <td>-0.566275</td>\n",
       "      <td>0.035714</td>\n",
       "      <td>1.0</td>\n",
       "      <td>0.0</td>\n",
       "      <td>0.0</td>\n",
       "      <td>0.0</td>\n",
       "      <td>0.0</td>\n",
       "      <td>0.0</td>\n",
       "      <td>0.0</td>\n",
       "      <td>1.0</td>\n",
       "      <td>0.0</td>\n",
       "      <td>0.0</td>\n",
       "      <td>1.0</td>\n",
       "      <td>0.0</td>\n",
       "      <td>-0.371330</td>\n",
       "    </tr>\n",
       "    <tr>\n",
       "      <th>26056</th>\n",
       "      <td>0.013514</td>\n",
       "      <td>0.146341</td>\n",
       "      <td>2</td>\n",
       "      <td>-1.042070</td>\n",
       "      <td>0.759339</td>\n",
       "      <td>-0.379244</td>\n",
       "      <td>0.035714</td>\n",
       "      <td>1.0</td>\n",
       "      <td>0.0</td>\n",
       "      <td>0.0</td>\n",
       "      <td>0.0</td>\n",
       "      <td>1.0</td>\n",
       "      <td>0.0</td>\n",
       "      <td>0.0</td>\n",
       "      <td>0.0</td>\n",
       "      <td>0.0</td>\n",
       "      <td>0.0</td>\n",
       "      <td>1.0</td>\n",
       "      <td>0.0</td>\n",
       "      <td>-1.557235</td>\n",
       "    </tr>\n",
       "    <tr>\n",
       "      <th>26057</th>\n",
       "      <td>0.054054</td>\n",
       "      <td>0.073171</td>\n",
       "      <td>3</td>\n",
       "      <td>1.008057</td>\n",
       "      <td>0.538133</td>\n",
       "      <td>0.275365</td>\n",
       "      <td>0.000000</td>\n",
       "      <td>0.0</td>\n",
       "      <td>0.0</td>\n",
       "      <td>0.0</td>\n",
       "      <td>1.0</td>\n",
       "      <td>0.0</td>\n",
       "      <td>1.0</td>\n",
       "      <td>0.0</td>\n",
       "      <td>0.0</td>\n",
       "      <td>0.0</td>\n",
       "      <td>0.0</td>\n",
       "      <td>0.0</td>\n",
       "      <td>1.0</td>\n",
       "      <td>0.627538</td>\n",
       "    </tr>\n",
       "    <tr>\n",
       "      <th>26058</th>\n",
       "      <td>0.108108</td>\n",
       "      <td>0.073171</td>\n",
       "      <td>0</td>\n",
       "      <td>0.061845</td>\n",
       "      <td>-1.146938</td>\n",
       "      <td>-0.192213</td>\n",
       "      <td>0.107143</td>\n",
       "      <td>1.0</td>\n",
       "      <td>0.0</td>\n",
       "      <td>0.0</td>\n",
       "      <td>0.0</td>\n",
       "      <td>0.0</td>\n",
       "      <td>0.0</td>\n",
       "      <td>0.0</td>\n",
       "      <td>0.0</td>\n",
       "      <td>0.0</td>\n",
       "      <td>1.0</td>\n",
       "      <td>1.0</td>\n",
       "      <td>0.0</td>\n",
       "      <td>0.278413</td>\n",
       "    </tr>\n",
       "  </tbody>\n",
       "</table>\n",
       "<p>26059 rows × 20 columns</p>\n",
       "</div>"
      ],
      "text/plain": [
       "       person_age  person_emp_length  loan_grade  loan_amnt  loan_int_rate  \\\n",
       "0        0.040541           0.121951           2   0.850355       0.105479   \n",
       "1        0.094595           0.292683           1   1.796568      -0.008377   \n",
       "2        0.094595           0.024390           2   1.323462       0.697531   \n",
       "3        0.027027           0.146341           1  -1.357474      -0.249101   \n",
       "4        0.027027           0.073171           0  -0.411262      -1.335614   \n",
       "...           ...                ...         ...        ...            ...   \n",
       "26054    0.310811           0.292683           1  -0.253559      -0.333680   \n",
       "26055    0.054054           0.195122           0  -0.726666      -1.699954   \n",
       "26056    0.013514           0.146341           2  -1.042070       0.759339   \n",
       "26057    0.054054           0.073171           3   1.008057       0.538133   \n",
       "26058    0.108108           0.073171           0   0.061845      -1.146938   \n",
       "\n",
       "       loan_percent_income  cb_person_cred_hist_length  \\\n",
       "0                -0.192213                    0.000000   \n",
       "1                -0.098697                    0.250000   \n",
       "2                 2.145675                    0.178571   \n",
       "3                -1.220884                    0.071429   \n",
       "4                -0.379244                    0.071429   \n",
       "...                    ...                         ...   \n",
       "26054             0.368880                    0.500000   \n",
       "26055            -0.566275                    0.035714   \n",
       "26056            -0.379244                    0.035714   \n",
       "26057             0.275365                    0.000000   \n",
       "26058            -0.192213                    0.107143   \n",
       "\n",
       "       person_home_ownership_MORTGAGE  person_home_ownership_OTHER  \\\n",
       "0                                 1.0                          0.0   \n",
       "1                                 0.0                          0.0   \n",
       "2                                 0.0                          0.0   \n",
       "3                                 0.0                          0.0   \n",
       "4                                 0.0                          0.0   \n",
       "...                               ...                          ...   \n",
       "26054                             1.0                          0.0   \n",
       "26055                             1.0                          0.0   \n",
       "26056                             1.0                          0.0   \n",
       "26057                             0.0                          0.0   \n",
       "26058                             1.0                          0.0   \n",
       "\n",
       "       person_home_ownership_OWN  person_home_ownership_RENT  \\\n",
       "0                            0.0                         0.0   \n",
       "1                            1.0                         0.0   \n",
       "2                            0.0                         1.0   \n",
       "3                            0.0                         1.0   \n",
       "4                            0.0                         1.0   \n",
       "...                          ...                         ...   \n",
       "26054                        0.0                         0.0   \n",
       "26055                        0.0                         0.0   \n",
       "26056                        0.0                         0.0   \n",
       "26057                        0.0                         1.0   \n",
       "26058                        0.0                         0.0   \n",
       "\n",
       "       loan_intent_DEBTCONSOLIDATION  loan_intent_EDUCATION  \\\n",
       "0                                1.0                    0.0   \n",
       "1                                0.0                    0.0   \n",
       "2                                0.0                    0.0   \n",
       "3                                0.0                    0.0   \n",
       "4                                0.0                    0.0   \n",
       "...                              ...                    ...   \n",
       "26054                            0.0                    0.0   \n",
       "26055                            0.0                    0.0   \n",
       "26056                            1.0                    0.0   \n",
       "26057                            0.0                    1.0   \n",
       "26058                            0.0                    0.0   \n",
       "\n",
       "       loan_intent_HOMEIMPROVEMENT  loan_intent_MEDICAL  loan_intent_PERSONAL  \\\n",
       "0                              0.0                  0.0                   0.0   \n",
       "1                              0.0                  0.0                   0.0   \n",
       "2                              0.0                  0.0                   0.0   \n",
       "3                              1.0                  0.0                   0.0   \n",
       "4                              0.0                  0.0                   0.0   \n",
       "...                            ...                  ...                   ...   \n",
       "26054                          0.0                  0.0                   0.0   \n",
       "26055                          0.0                  1.0                   0.0   \n",
       "26056                          0.0                  0.0                   0.0   \n",
       "26057                          0.0                  0.0                   0.0   \n",
       "26058                          0.0                  0.0                   0.0   \n",
       "\n",
       "       loan_intent_VENTURE  cb_person_default_on_file_N  \\\n",
       "0                      0.0                          0.0   \n",
       "1                      1.0                          1.0   \n",
       "2                      1.0                          1.0   \n",
       "3                      0.0                          1.0   \n",
       "4                      1.0                          1.0   \n",
       "...                    ...                          ...   \n",
       "26054                  1.0                          1.0   \n",
       "26055                  0.0                          1.0   \n",
       "26056                  0.0                          1.0   \n",
       "26057                  0.0                          0.0   \n",
       "26058                  1.0                          1.0   \n",
       "\n",
       "       cb_person_default_on_file_Y  log_income  \n",
       "0                              1.0    1.039575  \n",
       "1                              0.0    1.503153  \n",
       "2                              0.0   -0.365450  \n",
       "3                              0.0   -1.209662  \n",
       "4                              0.0   -0.016759  \n",
       "...                            ...         ...  \n",
       "26054                          0.0   -0.624178  \n",
       "26055                          0.0   -0.371330  \n",
       "26056                          0.0   -1.557235  \n",
       "26057                          1.0    0.627538  \n",
       "26058                          0.0    0.278413  \n",
       "\n",
       "[26059 rows x 20 columns]"
      ]
     },
     "execution_count": 41,
     "metadata": {},
     "output_type": "execute_result"
    }
   ],
   "source": [
    "X_train_scaled"
   ]
  },
  {
   "cell_type": "markdown",
   "id": "c872f861",
   "metadata": {},
   "source": [
    "## Transforming the Test Data (using transform() method)"
   ]
  },
  {
   "cell_type": "markdown",
   "id": "6dc9d6cd",
   "metadata": {},
   "source": [
    "By fitting the preprocessing transoformers only on the training data and then using the fitted preprocessing transformers to transform the test data, we ensure that information from the test set does not influence the training process. "
   ]
  },
  {
   "cell_type": "markdown",
   "id": "7c295787",
   "metadata": {},
   "source": [
    "#### Missing Value Handling"
   ]
  },
  {
   "cell_type": "code",
   "execution_count": 43,
   "id": "2d3562d4",
   "metadata": {},
   "outputs": [
    {
     "data": {
      "text/plain": [
       "person_age                      0\n",
       "person_income                   0\n",
       "person_home_ownership           0\n",
       "person_emp_length             189\n",
       "loan_intent                     0\n",
       "loan_grade                      0\n",
       "loan_amnt                       0\n",
       "loan_int_rate                 596\n",
       "loan_percent_income             0\n",
       "cb_person_default_on_file       0\n",
       "cb_person_cred_hist_length      0\n",
       "dtype: int64"
      ]
     },
     "execution_count": 43,
     "metadata": {},
     "output_type": "execute_result"
    }
   ],
   "source": [
    "X_test.isnull().sum()"
   ]
  },
  {
   "cell_type": "code",
   "execution_count": 44,
   "id": "e98ac067",
   "metadata": {},
   "outputs": [],
   "source": [
    "#Applying median imputation to test data\n",
    "\n",
    "X_test['loan_int_rate'] = imputer.transform(X_test[['loan_int_rate']])\n",
    "X_test['person_emp_length'] = imputer.transform(X_test[['person_emp_length']])"
   ]
  },
  {
   "cell_type": "code",
   "execution_count": 45,
   "id": "3f4bba90",
   "metadata": {},
   "outputs": [
    {
     "data": {
      "text/plain": [
       "person_age                    0\n",
       "person_income                 0\n",
       "person_home_ownership         0\n",
       "person_emp_length             0\n",
       "loan_intent                   0\n",
       "loan_grade                    0\n",
       "loan_amnt                     0\n",
       "loan_int_rate                 0\n",
       "loan_percent_income           0\n",
       "cb_person_default_on_file     0\n",
       "cb_person_cred_hist_length    0\n",
       "dtype: int64"
      ]
     },
     "execution_count": 45,
     "metadata": {},
     "output_type": "execute_result"
    }
   ],
   "source": [
    "X_test.isnull().sum()"
   ]
  },
  {
   "cell_type": "markdown",
   "id": "997bdd46",
   "metadata": {},
   "source": [
    "#### One-Hot Encoding "
   ]
  },
  {
   "cell_type": "code",
   "execution_count": 48,
   "id": "f8faab15",
   "metadata": {},
   "outputs": [],
   "source": [
    "#Apply one-hot-encoding to the categorical columns of test data\n",
    "ohe_test_encoded = ohe.transform(X_test[categorical_columns])\n",
    "\n",
    "#Create a DataFrame with one-hot-encoded columns\n",
    "#We use get_feature_names() to get the column names for the encoded data\n",
    "ohe_test_df = pd.DataFrame(ohe_test_encoded,\n",
    "                     columns=ohe.get_feature_names(categorical_columns))"
   ]
  },
  {
   "cell_type": "code",
   "execution_count": 50,
   "id": "9162d42e",
   "metadata": {},
   "outputs": [
    {
     "data": {
      "text/html": [
       "<div>\n",
       "<style scoped>\n",
       "    .dataframe tbody tr th:only-of-type {\n",
       "        vertical-align: middle;\n",
       "    }\n",
       "\n",
       "    .dataframe tbody tr th {\n",
       "        vertical-align: top;\n",
       "    }\n",
       "\n",
       "    .dataframe thead th {\n",
       "        text-align: right;\n",
       "    }\n",
       "</style>\n",
       "<table border=\"1\" class=\"dataframe\">\n",
       "  <thead>\n",
       "    <tr style=\"text-align: right;\">\n",
       "      <th></th>\n",
       "      <th>person_home_ownership_MORTGAGE</th>\n",
       "      <th>person_home_ownership_OTHER</th>\n",
       "      <th>person_home_ownership_OWN</th>\n",
       "      <th>person_home_ownership_RENT</th>\n",
       "      <th>loan_intent_DEBTCONSOLIDATION</th>\n",
       "      <th>loan_intent_EDUCATION</th>\n",
       "      <th>loan_intent_HOMEIMPROVEMENT</th>\n",
       "      <th>loan_intent_MEDICAL</th>\n",
       "      <th>loan_intent_PERSONAL</th>\n",
       "      <th>loan_intent_VENTURE</th>\n",
       "      <th>cb_person_default_on_file_N</th>\n",
       "      <th>cb_person_default_on_file_Y</th>\n",
       "    </tr>\n",
       "  </thead>\n",
       "  <tbody>\n",
       "    <tr>\n",
       "      <th>0</th>\n",
       "      <td>1.0</td>\n",
       "      <td>0.0</td>\n",
       "      <td>0.0</td>\n",
       "      <td>0.0</td>\n",
       "      <td>0.0</td>\n",
       "      <td>0.0</td>\n",
       "      <td>0.0</td>\n",
       "      <td>1.0</td>\n",
       "      <td>0.0</td>\n",
       "      <td>0.0</td>\n",
       "      <td>1.0</td>\n",
       "      <td>0.0</td>\n",
       "    </tr>\n",
       "    <tr>\n",
       "      <th>1</th>\n",
       "      <td>1.0</td>\n",
       "      <td>0.0</td>\n",
       "      <td>0.0</td>\n",
       "      <td>0.0</td>\n",
       "      <td>0.0</td>\n",
       "      <td>0.0</td>\n",
       "      <td>0.0</td>\n",
       "      <td>1.0</td>\n",
       "      <td>0.0</td>\n",
       "      <td>0.0</td>\n",
       "      <td>1.0</td>\n",
       "      <td>0.0</td>\n",
       "    </tr>\n",
       "    <tr>\n",
       "      <th>2</th>\n",
       "      <td>0.0</td>\n",
       "      <td>0.0</td>\n",
       "      <td>1.0</td>\n",
       "      <td>0.0</td>\n",
       "      <td>0.0</td>\n",
       "      <td>0.0</td>\n",
       "      <td>0.0</td>\n",
       "      <td>0.0</td>\n",
       "      <td>1.0</td>\n",
       "      <td>0.0</td>\n",
       "      <td>1.0</td>\n",
       "      <td>0.0</td>\n",
       "    </tr>\n",
       "    <tr>\n",
       "      <th>3</th>\n",
       "      <td>0.0</td>\n",
       "      <td>0.0</td>\n",
       "      <td>0.0</td>\n",
       "      <td>1.0</td>\n",
       "      <td>0.0</td>\n",
       "      <td>0.0</td>\n",
       "      <td>0.0</td>\n",
       "      <td>1.0</td>\n",
       "      <td>0.0</td>\n",
       "      <td>0.0</td>\n",
       "      <td>1.0</td>\n",
       "      <td>0.0</td>\n",
       "    </tr>\n",
       "    <tr>\n",
       "      <th>4</th>\n",
       "      <td>0.0</td>\n",
       "      <td>0.0</td>\n",
       "      <td>0.0</td>\n",
       "      <td>1.0</td>\n",
       "      <td>1.0</td>\n",
       "      <td>0.0</td>\n",
       "      <td>0.0</td>\n",
       "      <td>0.0</td>\n",
       "      <td>0.0</td>\n",
       "      <td>0.0</td>\n",
       "      <td>1.0</td>\n",
       "      <td>0.0</td>\n",
       "    </tr>\n",
       "  </tbody>\n",
       "</table>\n",
       "</div>"
      ],
      "text/plain": [
       "   person_home_ownership_MORTGAGE  person_home_ownership_OTHER  \\\n",
       "0                             1.0                          0.0   \n",
       "1                             1.0                          0.0   \n",
       "2                             0.0                          0.0   \n",
       "3                             0.0                          0.0   \n",
       "4                             0.0                          0.0   \n",
       "\n",
       "   person_home_ownership_OWN  person_home_ownership_RENT  \\\n",
       "0                        0.0                         0.0   \n",
       "1                        0.0                         0.0   \n",
       "2                        1.0                         0.0   \n",
       "3                        0.0                         1.0   \n",
       "4                        0.0                         1.0   \n",
       "\n",
       "   loan_intent_DEBTCONSOLIDATION  loan_intent_EDUCATION  \\\n",
       "0                            0.0                    0.0   \n",
       "1                            0.0                    0.0   \n",
       "2                            0.0                    0.0   \n",
       "3                            0.0                    0.0   \n",
       "4                            1.0                    0.0   \n",
       "\n",
       "   loan_intent_HOMEIMPROVEMENT  loan_intent_MEDICAL  loan_intent_PERSONAL  \\\n",
       "0                          0.0                  1.0                   0.0   \n",
       "1                          0.0                  1.0                   0.0   \n",
       "2                          0.0                  0.0                   1.0   \n",
       "3                          0.0                  1.0                   0.0   \n",
       "4                          0.0                  0.0                   0.0   \n",
       "\n",
       "   loan_intent_VENTURE  cb_person_default_on_file_N  \\\n",
       "0                  0.0                          1.0   \n",
       "1                  0.0                          1.0   \n",
       "2                  0.0                          1.0   \n",
       "3                  0.0                          1.0   \n",
       "4                  0.0                          1.0   \n",
       "\n",
       "   cb_person_default_on_file_Y  \n",
       "0                          0.0  \n",
       "1                          0.0  \n",
       "2                          0.0  \n",
       "3                          0.0  \n",
       "4                          0.0  "
      ]
     },
     "execution_count": 50,
     "metadata": {},
     "output_type": "execute_result"
    }
   ],
   "source": [
    "ohe_test_df.head()"
   ]
  },
  {
   "cell_type": "code",
   "execution_count": 51,
   "id": "607c1a6b",
   "metadata": {},
   "outputs": [],
   "source": [
    "# Reset indices to ensure alignment\n",
    "X_test.reset_index(drop=True, inplace=True)\n",
    "ohe_test_df.reset_index(drop=True, inplace=True)\n",
    "\n",
    "#Concatenate the one-hot-encoded dataframe with the original data-frame\n",
    "X_test_encoded = pd.concat([X_test,ohe_test_df],axis=1)\n",
    "\n",
    "# Drop the original categorical columns\n",
    "X_test_encoded = X_test_encoded.drop(categorical_columns, axis=1)"
   ]
  },
  {
   "cell_type": "markdown",
   "id": "f23f642b",
   "metadata": {},
   "source": [
    "#### Label Encoding"
   ]
  },
  {
   "cell_type": "code",
   "execution_count": 57,
   "id": "7c4a62c8",
   "metadata": {},
   "outputs": [],
   "source": [
    "#Encode label in column 'loan_grade' for test data\n",
    "X_test_encoded['loan_grade'] = le.transform(X_test_encoded['loan_grade'])"
   ]
  },
  {
   "cell_type": "markdown",
   "id": "3da33b9e",
   "metadata": {},
   "source": [
    "#### Feature Scaling & Transformation"
   ]
  },
  {
   "cell_type": "code",
   "execution_count": 59,
   "id": "658c9409",
   "metadata": {},
   "outputs": [
    {
     "data": {
      "image/png": "[encoded data removed]",
      "text/plain": [
       "<Figure size 1080x720 with 9 Axes>"
      ]
     },
     "metadata": {},
     "output_type": "display_data"
    }
   ],
   "source": [
    "X_test.hist(bins=30, figsize=(15, 10))\n",
    "plt.show()"
   ]
  },
  {
   "cell_type": "code",
   "execution_count": 61,
   "id": "c3796de3",
   "metadata": {},
   "outputs": [],
   "source": [
    "#Log transofrmation for person_income in test data\n",
    "X_test_encoded['log_income'] = np.log(X_test_encoded['person_income'])"
   ]
  },
  {
   "cell_type": "code",
   "execution_count": 63,
   "id": "474a1566",
   "metadata": {},
   "outputs": [],
   "source": [
    "#Drop the original income column from test data\n",
    "X_test_encoded = X_test_encoded.drop('person_income',axis=1)"
   ]
  },
  {
   "cell_type": "code",
   "execution_count": 64,
   "id": "daf2baad",
   "metadata": {},
   "outputs": [],
   "source": [
    "#Applying feature scaling methods to the respective columns of test data\n",
    "\n",
    "X_test_encoded[num_cols1] = pd.DataFrame(std_scaler.transform(X_test_encoded[num_cols1]))\n",
    "X_test_encoded[num_cols2] = pd.DataFrame(mm_scaler.transform(X_test_encoded[num_cols2]))"
   ]
  },
  {
   "cell_type": "code",
   "execution_count": 65,
   "id": "903d2bf3",
   "metadata": {},
   "outputs": [],
   "source": [
    "#Renaming test dataset \n",
    "X_test_scaled = X_test_encoded"
   ]
  },
  {
   "cell_type": "code",
   "execution_count": 66,
   "id": "40913507",
   "metadata": {},
   "outputs": [
    {
     "name": "stdout",
     "output_type": "stream",
     "text": [
      "Training set shape: X_train: (26059, 20), y_train: (26059,)\n",
      "Test set shape: X_test: (6515, 20), y_test: (6515,)\n"
     ]
    }
   ],
   "source": [
    "# Print the shapes of the preprocessed data to verify\n",
    "print(f\"Training set shape: X_train: {X_train_scaled.shape}, y_train: {y_train.shape}\")\n",
    "print(f\"Test set shape: X_test: {X_test_scaled.shape}, y_test: {y_test.shape}\")"
   ]
  },
  {
   "cell_type": "code",
   "execution_count": 71,
   "id": "dbd0e05d",
   "metadata": {},
   "outputs": [],
   "source": [
    "#Exporting the final training & test dataset\n",
    "\n",
    "X_train_scaled.to_csv('X_train.csv',index=False)\n",
    "X_test_scaled.to_csv('X_test.csv',index=False)\n",
    "y_train.to_csv('y_train.csv',index=False)\n",
    "y_test.to_csv('y_test.csv',index=False)"
   ]
  },
  {
   "cell_type": "code",
   "execution_count": null,
   "id": "82c1b493",
   "metadata": {},
   "outputs": [],
   "source": []
  }
 ],
 "metadata": {
  "kernelspec": {
   "display_name": "Python 3",
   "language": "python",
   "name": "python3"
  },
  "language_info": {
   "codemirror_mode": {
    "name": "ipython",
    "version": 3
   },
   "file_extension": ".py",
   "mimetype": "text/x-python",
   "name": "python",
   "nbconvert_exporter": "python",
   "pygments_lexer": "ipython3",
   "version": "3.8.8"
  }
 },
 "nbformat": 4,
 "nbformat_minor": 5
}
